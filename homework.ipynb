{
  "cells": [
    {
      "cell_type": "markdown",
      "source": [
        "# DX 601 Week 5 Homework"
      ],
      "metadata": {
        "id": "gNth75xDPtzQ"
      }
    },
    {
      "cell_type": "markdown",
      "source": [
        "## Introduction\n",
        "\n",
        "In this homework, you will practice working random variables and estimating their parameters.\n",
        "\n",
        "The focus on these problems is on your understanding of the math, not the programming.\n",
        "Some of the data sets will be small enough that you can look at the data and calculate the answer in your head.\n",
        "That is acceptable, though we encourage you to also think about how to write code to perform the same calculation for you.\n",
        "We will work with larger data sets and provide more code examples for you as this class progress."
      ],
      "metadata": {
        "id": "VNAEhPgUIGSa"
      }
    },
    {
      "cell_type": "markdown",
      "source": [
        "## Example Code\n",
        "\n",
        "You may find it helpful to refer to these GitHub repositories of Jupyter notebooks for example code.\n",
        "\n",
        "* https://github.com/bu-cds-omds/dx500-examples\n",
        "* https://github.com/bu-cds-omds/dx601-examples\n",
        "* https://github.com/bu-cds-omds/dx602-examples\n",
        "\n",
        "Any calculations demonstrated in code examples or videos may be found in these notebooks, and you are allowed to copy this example code in your homework answers."
      ],
      "metadata": {
        "id": "cymZzbccIOC8"
      }
    },
    {
      "cell_type": "markdown",
      "source": [
        "## Shared Imports\n",
        "\n",
        "Do not install or use any additional modules.\n",
        "Installing additional modules may result in an autograder failure resulting in zero points for some or all problems."
      ],
      "metadata": {
        "id": "mRE4xW4QlRH-"
      }
    },
    {
      "cell_type": "code",
      "execution_count": 16,
      "source": [
        "import math\n",
        "import random\n",
        "\n",
        "import matplotlib.pyplot as plt\n",
        "import numpy as np\n",
        "import pandas as pd\n",
        "import sklearn.linear_model"
      ],
      "outputs": [],
      "metadata": {
        "id": "5yUvvDLwlSVb"
      }
    },
    {
      "cell_type": "markdown",
      "source": [
        "## Problems"
      ],
      "metadata": {
        "id": "07BtczTwIRLQ"
      }
    },
    {
      "cell_type": "markdown",
      "source": [
        "### Problem 1\n",
        "\n",
        "The variable `q1` below has data for a probability distribution.\n",
        "The keys of `q1` are supposed to be ratings from 1 to 5 and the values are supposed to be the probabilities of each rating.\n",
        "However, the data for the rating of 5 is missing.\n",
        "Set `p1` to be the probability of rating 5 assuming that the probabilities for 1 to 4 are correct."
      ],
      "metadata": {}
    },
    {
      "cell_type": "code",
      "execution_count": 2,
      "source": [
        "q1 = {1: 0.32, 2: 0.22, 3: 0.12, 4: 0.1}"
      ],
      "outputs": [],
      "metadata": {}
    },
    {
      "cell_type": "code",
      "execution_count": 3,
      "source": [
        "# YOUR CHANGES HERE\n",
        "curr_sum = sum(q1.values())\n",
        "p1 = 1 - curr_sum"
      ],
      "outputs": [],
      "metadata": {}
    },
    {
      "cell_type": "markdown",
      "source": [
        "Check the value of `p1`."
      ],
      "metadata": {}
    },
    {
      "cell_type": "code",
      "execution_count": 4,
      "source": [
        "p1"
      ],
      "outputs": [
        {
          "output_type": "execute_result",
          "data": {
            "text/plain": [
              "0.24"
            ]
          },
          "metadata": {},
          "execution_count": 4
        }
      ],
      "metadata": {}
    },
    {
      "cell_type": "markdown",
      "source": [
        "### Problem 2\n",
        "\n",
        "The variable `q2` below has data for a probability distribution.\n",
        "The keys of `q2` are integer ratings from 1 to 5 and the values are the probabilities of each rating.\n",
        "Set `p2` to the average rating based on `q2`."
      ],
      "metadata": {}
    },
    {
      "cell_type": "code",
      "execution_count": 5,
      "source": [
        "q2 = {1 : 0.11, 2: 0.18, 3: 0.35, 4: 0.24, 5: 0.12}"
      ],
      "outputs": [],
      "metadata": {}
    },
    {
      "cell_type": "code",
      "execution_count": 8,
      "source": [
        "# we can visually see that it is 3, but we can compute manually as well\n",
        "prob_sum = 0\n",
        "for k,v in q2.items():\n",
        "    prob_sum += k*v\n",
        "p2 = prob_sum # TODO may need to floor this depending on how the grader works"
      ],
      "outputs": [],
      "metadata": {}
    },
    {
      "cell_type": "markdown",
      "source": [
        "Check the value of `p2`."
      ],
      "metadata": {}
    },
    {
      "cell_type": "code",
      "execution_count": 9,
      "source": [
        "p2"
      ],
      "outputs": [
        {
          "output_type": "execute_result",
          "data": {
            "text/plain": [
              "3.0799999999999996"
            ]
          },
          "metadata": {},
          "execution_count": 9
        }
      ],
      "metadata": {}
    },
    {
      "cell_type": "markdown",
      "source": [
        "### Problem 3\n",
        "\n",
        "Set `p3` to the sample probability that the rated flavor is at least 3 in `q3`."
      ],
      "metadata": {
        "id": "J5s_YDzOIaYW"
      }
    },
    {
      "cell_type": "code",
      "execution_count": 10,
      "source": [
        "# DO NOT CHANGE\n",
        "\n",
        "q3 = pd.read_csv(\"mango-tiny.tsv\", sep=\"\\t\")\n",
        "q3"
      ],
      "outputs": [
        {
          "output_type": "execute_result",
          "data": {
            "text/plain": [
              "   green_rating  yellow_rating  softness  wrinkles  estimated_flavor  \\\n",
              "0             1              5         4         0                 4   \n",
              "1             1              5         5         1                 5   \n",
              "2             2              4         3         1                 3   \n",
              "3             3              3         2         0                 2   \n",
              "4             5              1         1         1                 1   \n",
              "5             4              2         1         1                 1   \n",
              "6             5              1         1         1                 2   \n",
              "7             3              3         2         1                 2   \n",
              "\n",
              "   estimated_sweetness  rated_flavor  \n",
              "0                    4             5  \n",
              "1                    5             1  \n",
              "2                    3             3  \n",
              "3                    1             2  \n",
              "4                    1             1  \n",
              "5                    1             1  \n",
              "6                    1             1  \n",
              "7                    2             2  "
            ],
            "text/html": [
              "<div>\n",
              "<style scoped>\n",
              "    .dataframe tbody tr th:only-of-type {\n",
              "        vertical-align: middle;\n",
              "    }\n",
              "\n",
              "    .dataframe tbody tr th {\n",
              "        vertical-align: top;\n",
              "    }\n",
              "\n",
              "    .dataframe thead th {\n",
              "        text-align: right;\n",
              "    }\n",
              "</style>\n",
              "<table border=\"1\" class=\"dataframe\">\n",
              "  <thead>\n",
              "    <tr style=\"text-align: right;\">\n",
              "      <th></th>\n",
              "      <th>green_rating</th>\n",
              "      <th>yellow_rating</th>\n",
              "      <th>softness</th>\n",
              "      <th>wrinkles</th>\n",
              "      <th>estimated_flavor</th>\n",
              "      <th>estimated_sweetness</th>\n",
              "      <th>rated_flavor</th>\n",
              "    </tr>\n",
              "  </thead>\n",
              "  <tbody>\n",
              "    <tr>\n",
              "      <th>0</th>\n",
              "      <td>1</td>\n",
              "      <td>5</td>\n",
              "      <td>4</td>\n",
              "      <td>0</td>\n",
              "      <td>4</td>\n",
              "      <td>4</td>\n",
              "      <td>5</td>\n",
              "    </tr>\n",
              "    <tr>\n",
              "      <th>1</th>\n",
              "      <td>1</td>\n",
              "      <td>5</td>\n",
              "      <td>5</td>\n",
              "      <td>1</td>\n",
              "      <td>5</td>\n",
              "      <td>5</td>\n",
              "      <td>1</td>\n",
              "    </tr>\n",
              "    <tr>\n",
              "      <th>2</th>\n",
              "      <td>2</td>\n",
              "      <td>4</td>\n",
              "      <td>3</td>\n",
              "      <td>1</td>\n",
              "      <td>3</td>\n",
              "      <td>3</td>\n",
              "      <td>3</td>\n",
              "    </tr>\n",
              "    <tr>\n",
              "      <th>3</th>\n",
              "      <td>3</td>\n",
              "      <td>3</td>\n",
              "      <td>2</td>\n",
              "      <td>0</td>\n",
              "      <td>2</td>\n",
              "      <td>1</td>\n",
              "      <td>2</td>\n",
              "    </tr>\n",
              "    <tr>\n",
              "      <th>4</th>\n",
              "      <td>5</td>\n",
              "      <td>1</td>\n",
              "      <td>1</td>\n",
              "      <td>1</td>\n",
              "      <td>1</td>\n",
              "      <td>1</td>\n",
              "      <td>1</td>\n",
              "    </tr>\n",
              "    <tr>\n",
              "      <th>5</th>\n",
              "      <td>4</td>\n",
              "      <td>2</td>\n",
              "      <td>1</td>\n",
              "      <td>1</td>\n",
              "      <td>1</td>\n",
              "      <td>1</td>\n",
              "      <td>1</td>\n",
              "    </tr>\n",
              "    <tr>\n",
              "      <th>6</th>\n",
              "      <td>5</td>\n",
              "      <td>1</td>\n",
              "      <td>1</td>\n",
              "      <td>1</td>\n",
              "      <td>2</td>\n",
              "      <td>1</td>\n",
              "      <td>1</td>\n",
              "    </tr>\n",
              "    <tr>\n",
              "      <th>7</th>\n",
              "      <td>3</td>\n",
              "      <td>3</td>\n",
              "      <td>2</td>\n",
              "      <td>1</td>\n",
              "      <td>2</td>\n",
              "      <td>2</td>\n",
              "      <td>2</td>\n",
              "    </tr>\n",
              "  </tbody>\n",
              "</table>\n",
              "</div>"
            ]
          },
          "metadata": {},
          "execution_count": 10
        }
      ],
      "metadata": {}
    },
    {
      "cell_type": "code",
      "execution_count": 15,
      "source": [
        "p3 = len(q3[q3['rated_flavor'] >= 3]) / len(q3)"
      ],
      "outputs": [],
      "metadata": {}
    },
    {
      "cell_type": "markdown",
      "source": [
        "Check the value of `p3`."
      ],
      "metadata": {}
    },
    {
      "cell_type": "code",
      "execution_count": 14,
      "source": [
        "p3"
      ],
      "outputs": [
        {
          "output_type": "execute_result",
          "data": {
            "text/plain": [
              "0.25"
            ]
          },
          "metadata": {},
          "execution_count": 14
        }
      ],
      "metadata": {}
    },
    {
      "cell_type": "markdown",
      "source": [
        "### Problem 4\n",
        "\n",
        "Set `p4` to the probability of sampling the exact sequence of values in `q4` assuming that it is a Boolean random variable which is True with probability 0.9.\n"
      ],
      "metadata": {
        "id": "kWZScrvzIh0c"
      }
    },
    {
      "cell_type": "code",
      "execution_count": 27,
      "source": [
        "# DO NOT CHANGE\n",
        "\n",
        "q4 = [False, False, True, True, True, True, True, True, True, False]"
      ],
      "outputs": [],
      "metadata": {}
    },
    {
      "cell_type": "code",
      "execution_count": 16,
      "source": [
        "# the chance of sampling true is .9 and false is .1\n",
        "# to get this exact sequence it is\n",
        "p4 = .1 * .1 * .9 * .9 * .9 * .9 * .9 * .9 * .9 * .1"
      ],
      "outputs": [],
      "metadata": {}
    },
    {
      "cell_type": "code",
      "execution_count": 17,
      "source": [
        "p4"
      ],
      "outputs": [
        {
          "output_type": "execute_result",
          "data": {
            "text/plain": [
              "0.00047829690000000027"
            ]
          },
          "metadata": {},
          "execution_count": 17
        }
      ],
      "metadata": {}
    },
    {
      "cell_type": "markdown",
      "source": [
        "### Problem 5\n",
        "\n",
        "`q5` was populated with samples of a Boolean random variable with an unknown probability.\n",
        "Set `p5` to the best estimate for that probability based on the sample in `q5`."
      ],
      "metadata": {
        "id": "RpywPjcnIhgt"
      }
    },
    {
      "cell_type": "code",
      "execution_count": 18,
      "source": [
        "# DO NOT CHANGE\n",
        "\n",
        "q5 = [ True,  True,  True,  True, False,  True, False,  True,  True,\n",
        "        True,  True,  True,  True,  True,  True,  True,  True,  True,\n",
        "        True,  True]"
      ],
      "outputs": [],
      "metadata": {}
    },
    {
      "cell_type": "code",
      "execution_count": 20,
      "source": [
        "# YOUR CHANGES HERE\n",
        "def is_true(val):\n",
        "    return val is True\n",
        "true_count = len(list(filter(is_true, q5)))\n",
        "p5 = true_count / len(q5)"
      ],
      "outputs": [],
      "metadata": {}
    },
    {
      "cell_type": "code",
      "execution_count": 21,
      "source": [
        "p5"
      ],
      "outputs": [
        {
          "output_type": "execute_result",
          "data": {
            "text/plain": [
              "0.9"
            ]
          },
          "metadata": {},
          "execution_count": 21
        }
      ],
      "metadata": {}
    },
    {
      "cell_type": "markdown",
      "source": [
        "### Problem 6\n",
        "\n",
        "The variable `q6` has a probability where the keys are different events and the values are the probabilities of those events.\n",
        "Set `p6` to be the entropy of that probability distribution using base 2 for the logarithm.\n",
        "\n"
      ],
      "metadata": {}
    },
    {
      "cell_type": "code",
      "execution_count": 1,
      "source": [
        "q6 = {\n",
        "    \"robot uprising\": 0.2,\n",
        "    \"politician uprising\": 0.1,\n",
        "    \"it rains but only on Boston\": 0.3,\n",
        "    \"the class votes for ghost peppers\": 0.01,\n",
        "    \"a pretty normal day\": 0.39,\n",
        "}"
      ],
      "outputs": [],
      "metadata": {}
    },
    {
      "cell_type": "code",
      "execution_count": 8,
      "source": [
        "# sum the probability * log2 * probability\n",
        "# return negative  1 * above calculation\n",
        "s = 0\n",
        "for v in q6.values():\n",
        "    s += (v * math.log2(v))\n",
        "p6 = -s"
      ],
      "outputs": [],
      "metadata": {}
    },
    {
      "cell_type": "markdown",
      "source": [
        "Check the value of `p6`."
      ],
      "metadata": {}
    },
    {
      "cell_type": "code",
      "execution_count": 9,
      "source": [
        "p6"
      ],
      "outputs": [
        {
          "output_type": "execute_result",
          "data": {
            "text/plain": [
              "1.9139037172696836"
            ]
          },
          "metadata": {},
          "execution_count": 9
        }
      ],
      "metadata": {}
    },
    {
      "cell_type": "markdown",
      "source": [
        "### Problem 7\n",
        "\n",
        "The Gaussian distribution is often described with parameters $\\mu$ and $\\sigma$ which are its mean and standard deviation respectively.\n",
        "The variable `q7` contains sample from a Gaussian distribution with unknown parameters $\\mu$ and $\\sigma$.\n",
        "Set `p7` to the best estimate for $\\mu$ based on `q7`."
      ],
      "metadata": {
        "id": "JbuxPaO1IhQF"
      }
    },
    {
      "cell_type": "code",
      "execution_count": 10,
      "source": [
        "# DO NOT CHANGE\n",
        "\n",
        "q7 = [ 2.18951305,  3.21334859,  1.14365045,  4.1614196 ,  2.24432341,\n",
        "        1.65558202, -0.64765017,  1.79813678,  2.44497505, -1.01086414,\n",
        "        4.44433271,  4.42989967,  4.81153414,  4.15714616, -1.00328116,\n",
        "        0.08574746,  0.68626944,  2.29629939, -0.81616113,  3.51392696,\n",
        "        3.71135799, -3.40450797, -0.78631389, -0.80101964, -0.60264114,\n",
        "        1.39234378,  2.11862709, -1.05183249,  0.93631673,  2.90434645,\n",
        "        4.67682544,  3.71805815,  2.29786649,  3.1781374 ,  1.90267204,\n",
        "       -2.8452543 ,  2.39347453,  2.45620551,  0.96723225,  4.24547985,\n",
        "       -1.23106729,  1.16939068,  2.7122868 ,  2.27630836,  4.0921482 ,\n",
        "       -3.12414746,  1.47289076,  4.31979053,  2.47272146, -1.22572675,\n",
        "        0.8395345 ,  3.11764728,  4.12395572,  5.28917842,  6.56875269,\n",
        "        0.92508068,  0.49923847, -2.35643919, -0.35051155,  4.42566994,\n",
        "        1.90822077,  2.77904544,  5.18627903, -2.64782035,  3.48792269,\n",
        "        2.50389233, -1.11439104,  1.19428788,  7.03592233,  5.83566561,\n",
        "        6.5173106 ,  0.30285976,  0.25946494,  6.42905913,  5.47758718,\n",
        "       -0.39919649,  3.62305191,  6.21423662,  4.98367437,  4.86768458,\n",
        "        2.54374759,  2.93269745,  0.53365972,  6.09710561, -2.65911688,\n",
        "       -0.55479593, -0.38957135, -1.25774693, -0.83393951,  6.1942297 ,\n",
        "       -0.11597524, -3.5199578 ,  2.36897896,  2.65485797, -0.97884383,\n",
        "        1.82181155,  0.31590117,  4.81870844,  6.50617794, -0.06944201]"
      ],
      "outputs": [],
      "metadata": {}
    },
    {
      "cell_type": "code",
      "execution_count": 11,
      "source": [
        "# YOUR CHANGES HERE\n",
        "\n",
        "p7 = sum(q7) / len(q7)"
      ],
      "outputs": [],
      "metadata": {}
    },
    {
      "cell_type": "code",
      "execution_count": 12,
      "source": [
        "p7"
      ],
      "outputs": [
        {
          "output_type": "execute_result",
          "data": {
            "text/plain": [
              "1.9407546870999999"
            ]
          },
          "metadata": {},
          "execution_count": 12
        }
      ],
      "metadata": {}
    },
    {
      "cell_type": "markdown",
      "source": [
        "### Problem 8\n",
        "\n",
        "The Gaussian distribution is often described with parameters $\\mu$ and $\\sigma$ which are its mean and standard deviation respectively.\n",
        "The variable `q8` contains sample from a Gaussian distribution with unknown parameters $\\mu$ and $\\sigma$.\n",
        "Set `p8` to the best estimate for $\\sigma$ based on `q8`."
      ],
      "metadata": {
        "id": "mW_Zh_tIIg49"
      }
    },
    {
      "cell_type": "code",
      "execution_count": 13,
      "source": [
        "# DO NOT CHANGE\n",
        "\n",
        "q8 = [-1.32487763, -0.72394429,  4.77772181,  5.53219241,  3.7269577 ,\n",
        "        1.55964185,  4.95652446, -0.66917544, -1.61680259,  0.71205177,\n",
        "        1.33359678, -0.7944082 ,  4.04367501, -3.13827056,  6.71313336,\n",
        "        1.4620493 ,  3.11105169, -1.37720757,  0.62460622,  4.44396039,\n",
        "        3.33122464, -1.03426957,  5.71976918,  5.18648399,  8.78590097,\n",
        "        8.19428146,  5.97375495, -1.14346419,  2.4632692 , -2.99693742,\n",
        "        4.31784396,  0.1288061 ,  6.88487521,  3.77759187,  1.39286328,\n",
        "        5.58024851,  0.34219152,  0.12581538,  7.58634855,  2.7136383 ,\n",
        "        4.27255656,  2.62606352, -2.2675166 ,  9.19413007,  2.63380853,\n",
        "        2.84071553,  1.7504841 ,  2.16675503,  7.2437412 ,  5.22792685,\n",
        "        1.5028551 ,  2.66958666,  0.65899729, -4.24551101, -2.98336679,\n",
        "        1.86630789, -0.75597163,  3.84145905,  1.42392319, -1.87596843,\n",
        "       -4.26214085,  3.95754016,  1.26508575,  1.91800295,  0.32456464,\n",
        "        0.76239803, -1.89559082,  2.45133463,  6.26226898, -2.53496552,\n",
        "        2.27062546, -1.97584281,  4.52991083, -1.07315439, -0.79299469,\n",
        "        1.33714764, 11.63999658,  3.85562346,  4.09258214,  5.88166888,\n",
        "        0.36022584,  1.3540896 ,  3.12185003, -0.11699805,  7.62129988,\n",
        "        0.77460845,  1.48166123,  1.31982143,  4.36979573, -0.41560051,\n",
        "        2.85778122, -0.17848605,  3.35888191, -3.64378923,  6.05619661,\n",
        "       -0.01644298,  3.87381097,  0.07376891,  1.6267978 ,  0.039076  ]"
      ],
      "outputs": [],
      "metadata": {}
    },
    {
      "cell_type": "markdown",
      "source": [
        "Hint: Don't forget that `q8` is a sample."
      ],
      "metadata": {
        "id": "FUKw4A2H2dku"
      }
    },
    {
      "cell_type": "code",
      "execution_count": 14,
      "source": [
        "# YOUR CHANGES HERE\n",
        "# std is the average distance from the mean\n",
        "m = sum(q8) / len(q8)\n",
        "s = 0\n",
        "for i in q8:\n",
        "    s += (i - m) ** 2\n",
        "p8 = math.sqrt(s / len(q8) - 1)"
      ],
      "outputs": [],
      "metadata": {}
    },
    {
      "cell_type": "markdown",
      "source": [
        "Check the value of `p8`."
      ],
      "metadata": {}
    },
    {
      "cell_type": "code",
      "execution_count": 15,
      "source": [
        "p8"
      ],
      "outputs": [
        {
          "output_type": "execute_result",
          "data": {
            "text/plain": [
              "3.0011711419762137"
            ]
          },
          "metadata": {},
          "execution_count": 15
        }
      ],
      "metadata": {}
    },
    {
      "cell_type": "markdown",
      "source": [
        "### Problem 9\n",
        "\n",
        "The function `q9` below samples a uniform random distribution from a range besides [0,1).\n",
        "What is the 25th percentile of that distribution?"
      ],
      "metadata": {
        "id": "8OTx56oFIgh5"
      }
    },
    {
      "cell_type": "code",
      "execution_count": 17,
      "source": [
        "# DO NOT CHANGE\n",
        "\n",
        "def q9():\n",
        "    return random.random() * 3 + 2"
      ],
      "outputs": [],
      "metadata": {}
    },
    {
      "cell_type": "code",
      "execution_count": 20,
      "source": [
        "# YOUR CHANGES HERE\n",
        "# q9 returns values from 0-5. the 25th percentile should be 1.25\n",
        "p9 = 1.25"
      ],
      "outputs": [],
      "metadata": {}
    },
    {
      "cell_type": "code",
      "execution_count": 21,
      "source": [
        "p9"
      ],
      "outputs": [
        {
          "output_type": "execute_result",
          "data": {
            "text/plain": [
              "1.25"
            ]
          },
          "metadata": {},
          "execution_count": 21
        }
      ],
      "metadata": {}
    },
    {
      "cell_type": "markdown",
      "source": [
        "### Problem 10\n",
        "\n",
        "Suppose variable $X$ is uniformly distributed between zero and one, and $Y = 1$ if $X > 0.7$ and $Y = 0$ otherwise.\n",
        "Set `p10` to the average value of $Y$."
      ],
      "metadata": {
        "id": "88HguRnEIfeI"
      }
    },
    {
      "cell_type": "code",
      "execution_count": 22,
      "source": [
        "# YOUR CHANGES HERE\n",
        "# may need to floor this depending on the grader\n",
        "p10 = 1*.3 + 0*.7"
      ],
      "outputs": [],
      "metadata": {}
    },
    {
      "cell_type": "markdown",
      "source": [
        "Check the value of `p10`."
      ],
      "metadata": {}
    },
    {
      "cell_type": "code",
      "execution_count": 23,
      "source": [
        "p10"
      ],
      "outputs": [
        {
          "output_type": "execute_result",
          "data": {
            "text/plain": [
              "0.3"
            ]
          },
          "metadata": {},
          "execution_count": 23
        }
      ],
      "metadata": {}
    },
    {
      "cell_type": "markdown",
      "source": [
        "### Problem 11\n",
        "\n",
        "Read the following function `q11`.\n",
        "Set `p11` to be the probability that it returns 5.\n"
      ],
      "metadata": {}
    },
    {
      "cell_type": "code",
      "execution_count": 24,
      "source": [
        "# DO NOT CHANGE\n",
        "\n",
        "def q11():\n",
        "    if random.random() < 0.3:\n",
        "        return 3\n",
        "    else:\n",
        "        return 5"
      ],
      "outputs": [],
      "metadata": {}
    },
    {
      "cell_type": "code",
      "execution_count": 25,
      "source": [
        "# YOUR CHANGES HERE\n",
        "# prob is the prob that it returns not 5 subtracted from 1\n",
        "p11 = 1 - .3"
      ],
      "outputs": [],
      "metadata": {}
    },
    {
      "cell_type": "markdown",
      "source": [
        "Check the value of `p11`."
      ],
      "metadata": {}
    },
    {
      "cell_type": "code",
      "execution_count": 26,
      "source": [
        "p11"
      ],
      "outputs": [
        {
          "output_type": "execute_result",
          "data": {
            "text/plain": [
              "0.7"
            ]
          },
          "metadata": {},
          "execution_count": 26
        }
      ],
      "metadata": {}
    },
    {
      "cell_type": "markdown",
      "source": [
        "### Problem 12\n",
        "\n",
        "`q12` was populated by sampling a normal distribution with parameters $\\mu = 3$ and $\\sigma = 2.5$.\n",
        "Set `p12` to be the variance of the true distribution."
      ],
      "metadata": {
        "id": "tO_o_pYkIfE3"
      }
    },
    {
      "cell_type": "code",
      "execution_count": 28,
      "source": [
        "# DO NOT CHANGE\n",
        "\n",
        "q12 = [ 2.49073198,  3.96150942,  3.57959012,  2.97489566,  4.43810472,\n",
        "        0.60937953,  4.79559959,  3.31998609, -3.13413567,  4.18655819,\n",
        "        1.60472606, -0.90067315,  5.72144055,  1.96285829,  3.58032777,\n",
        "        5.0000598 ,  1.99155364,  4.03012882,  4.4328265 ,  3.7561623 ,\n",
        "        4.36517297,  7.33571955,  2.98004007,  2.39190998,  0.8896004 ,\n",
        "        4.39483694,  6.24001744,  3.5728269 ,  3.56109955,  0.03100252,\n",
        "        0.01694201,  6.10146135,  6.53860572, -0.98557317,  5.55601581,\n",
        "       -0.57466865,  1.96730937,  3.154147  ,  0.57831568,  2.7929834 ,\n",
        "        2.02219267,  2.57068019,  2.00348843,  5.32982181,  4.12930339,\n",
        "        1.83013824,  2.94163411,  1.8466857 ,  2.50884172,  3.42618505,\n",
        "        0.41681884,  4.27545837, -0.33949951,  5.33027797,  2.55328453,\n",
        "        1.31282454,  5.2186943 ,  4.44302476,  2.37329286, -1.06933716,\n",
        "       -4.2889853 , -0.91837895,  4.79007654,  1.86741974,  3.52981753,\n",
        "        1.84690485,  7.52242246, -0.8776054 ,  7.03684919,  5.18383115,\n",
        "       -0.18018984,  2.49325949,  5.93960657,  2.56212489,  5.58226401,\n",
        "        0.13910789, -0.15979284,  4.6192372 ,  6.79108277, -1.88259064,\n",
        "        2.28757873,  6.14699094,  5.89771401, -1.14394154,  4.37797268,\n",
        "        4.48893764,  2.25998463,  0.45671891,  2.085927  ,  3.35330559,\n",
        "        3.27327967,  0.07365027,  2.80898248,  0.247282  , -3.08661626,\n",
        "        2.63549085,  9.92929404,  2.73060926,  2.30437159,  1.3225877 ]"
      ],
      "outputs": [],
      "metadata": {}
    },
    {
      "cell_type": "markdown",
      "source": [
        "Hint: you should be able to calculate this exactly.\n",
        "No estimate is required."
      ],
      "metadata": {}
    },
    {
      "cell_type": "code",
      "execution_count": 37,
      "source": [
        "# YOUR CHANGES HERE\n",
        "# variance is std squared. for the true distribution we calculate using the mean and the samples\n",
        "s = 0\n",
        "for i in q12:\n",
        "    s += (3 - i) ** 2 \n",
        "p12 = math.sqrt(s / (len(q12) - 1)) ** 2"
      ],
      "outputs": [],
      "metadata": {}
    },
    {
      "cell_type": "code",
      "execution_count": 38,
      "source": [
        "p12"
      ],
      "outputs": [
        {
          "output_type": "execute_result",
          "data": {
            "text/plain": [
              "6.4617678683503215"
            ]
          },
          "metadata": {},
          "execution_count": 38
        }
      ],
      "metadata": {}
    },
    {
      "cell_type": "markdown",
      "source": [
        "### Problem 13\n",
        "\n",
        "Write a function `p13` that computes the cumulative distribution function of the uniform random distribution between -0.5 and 1.5."
      ],
      "metadata": {
        "id": "cUeEhIJRIecP"
      }
    },
    {
      "cell_type": "code",
      "execution_count": 39,
      "source": [
        "# YOUR CHANGES HERE\n",
        "\n",
        "def p13(x):\n",
        "    if x < -0.5:\n",
        "        return 0.0\n",
        "    elif -0.5 <= x < 1.5:\n",
        "        return (x - -0.5) / (1.5 - -0.5)\n",
        "    else:\n",
        "        return 1.0"
      ],
      "outputs": [],
      "metadata": {}
    },
    {
      "cell_type": "markdown",
      "source": [
        "Check the output of `p13`."
      ],
      "metadata": {}
    },
    {
      "cell_type": "code",
      "execution_count": 40,
      "source": [
        "p13(-1.0)"
      ],
      "outputs": [
        {
          "output_type": "execute_result",
          "data": {
            "text/plain": [
              "0.0"
            ]
          },
          "metadata": {},
          "execution_count": 40
        }
      ],
      "metadata": {}
    },
    {
      "cell_type": "code",
      "execution_count": 41,
      "source": [
        "p13(-0.5)"
      ],
      "outputs": [
        {
          "output_type": "execute_result",
          "data": {
            "text/plain": [
              "0.0"
            ]
          },
          "metadata": {},
          "execution_count": 41
        }
      ],
      "metadata": {}
    },
    {
      "cell_type": "code",
      "execution_count": 42,
      "source": [
        "p13(0.0)"
      ],
      "outputs": [
        {
          "output_type": "execute_result",
          "data": {
            "text/plain": [
              "0.25"
            ]
          },
          "metadata": {},
          "execution_count": 42
        }
      ],
      "metadata": {}
    },
    {
      "cell_type": "code",
      "execution_count": 43,
      "source": [
        "p13(0.5)"
      ],
      "outputs": [
        {
          "output_type": "execute_result",
          "data": {
            "text/plain": [
              "0.5"
            ]
          },
          "metadata": {},
          "execution_count": 43
        }
      ],
      "metadata": {}
    },
    {
      "cell_type": "code",
      "execution_count": 44,
      "source": [
        "p13(1.0)"
      ],
      "outputs": [
        {
          "output_type": "execute_result",
          "data": {
            "text/plain": [
              "0.75"
            ]
          },
          "metadata": {},
          "execution_count": 44
        }
      ],
      "metadata": {}
    },
    {
      "cell_type": "code",
      "execution_count": 45,
      "source": [
        "p13(1.5)"
      ],
      "outputs": [
        {
          "output_type": "execute_result",
          "data": {
            "text/plain": [
              "1.0"
            ]
          },
          "metadata": {},
          "execution_count": 45
        }
      ],
      "metadata": {}
    },
    {
      "cell_type": "code",
      "execution_count": 46,
      "source": [
        "p13(2.0)"
      ],
      "outputs": [
        {
          "output_type": "execute_result",
          "data": {
            "text/plain": [
              "1.0"
            ]
          },
          "metadata": {},
          "execution_count": 46
        }
      ],
      "metadata": {}
    },
    {
      "cell_type": "markdown",
      "source": [
        "### Problem 14\n",
        "\n",
        "The variables `q14a` and `q14b` were both sampled from distributions $A$ and $B$ which are both normal distributions with unknown parameters.\n",
        "Set `p14` to the best estimate for the mean of the distribution $A + B$ where samples of $A$ are added to samples of $B$."
      ],
      "metadata": {
        "id": "BVB280nDIduP"
      }
    },
    {
      "cell_type": "code",
      "execution_count": 50,
      "source": [
        "# DO NOT CHANGE\n",
        "\n",
        "q14a = [ 3.05229454,  2.26865592, -0.28446062,  2.72815019,  0.87702548,\n",
        "        2.39263395,  3.17406741,  2.99130508,  2.18517843,  1.91179467,\n",
        "        1.276371  ,  1.58415728,  5.17685568,  2.25579908,  4.1273098 ,\n",
        "        1.18074705,  2.57485786,  2.01014922,  3.29417197,  1.43566483,\n",
        "        3.81411092,  3.02804559,  1.39695517,  1.97971733,  2.09189825,\n",
        "        0.64092016,  2.58860093,  2.78111888,  3.94685952,  2.10160553,\n",
        "        2.69579444,  1.14600875,  0.9743622 ,  3.56832344,  0.46665662,\n",
        "        1.2241187 ,  1.80532282,  3.76737705,  3.06181508,  2.8311355 ,\n",
        "        3.53584199,  3.30625694,  0.17647862,  3.0485558 ,  3.85965566,\n",
        "        2.44064979,  0.52507351,  1.48381841,  4.3613498 ,  1.91572142,\n",
        "        0.4141849 ,  0.24046835,  3.63840345,  2.34779604,  1.84522379,\n",
        "        1.15184225,  2.88400496,  2.52343481,  1.40144055,  0.62043358,\n",
        "        2.32197257,  3.67424475,  2.24350799,  0.0731625 ,  1.09701349,\n",
        "        1.53012311,  1.33975812,  1.43008794,  3.01551034,  1.89454186,\n",
        "        3.37760792,  1.7526434 ,  0.09430535,  3.76751883,  2.21365605,\n",
        "       -1.79405225, -2.35551196,  2.49030091,  2.95382578,  4.21424994,\n",
        "        3.18841543,  3.25701312,  2.26213341,  1.28897006,  3.15991118,\n",
        "        0.92657717,  1.69053899,  4.0727547 ,  2.92330195,  3.56225094,\n",
        "        2.03534048,  1.3435683 ,  3.84731073, -0.76679685,  0.47916153,\n",
        "        2.28306285,  2.37714022,  1.69922985,  3.01644183,  4.8481596 ]"
      ],
      "outputs": [],
      "metadata": {}
    },
    {
      "cell_type": "code",
      "execution_count": 51,
      "source": [
        "# DO NOT CHANGE\n",
        "\n",
        "q14b = [0.43973473, 0.49035749, 0.37869895, 0.46085026, 0.4804874 ,\n",
        "       0.60468773, 0.17334382, 0.4501747 , 0.3875715 , 0.46082909,\n",
        "       0.57557651, 0.48700529, 0.51676064, 0.49849571, 0.47736084,\n",
        "       0.61179914, 0.49752516, 0.57352076, 0.5538917 , 0.35818804,\n",
        "       0.37365096, 0.45016084, 0.62332962, 0.26892053, 0.47056826,\n",
        "       0.48392473, 0.36533735, 0.46471291, 0.36393801, 0.41489211,\n",
        "       0.41772154, 0.39896619, 0.60142511, 0.4156219 , 0.59968116,\n",
        "       0.4578653 , 0.33890952, 0.51023614, 0.34758804, 0.52963593,\n",
        "       0.57499551, 0.38295178, 0.6301122 , 0.61782609, 0.46120195,\n",
        "       0.4892057 , 0.42706462, 0.49021875, 0.59549941, 0.41114449,\n",
        "       0.56757128, 0.53615432, 0.56154366, 0.50702254, 0.5924536 ,\n",
        "       0.51203165, 0.57877741, 0.65814672, 0.46251323, 0.43326838,\n",
        "       0.45024371, 0.58353354, 0.4180071 , 0.50474524, 0.48361257,\n",
        "       0.45206656, 0.50495991, 0.5947725 , 0.61731827, 0.37045298,\n",
        "       0.4601027 , 0.50905589, 0.49807366, 0.41684085, 0.40852841,\n",
        "       0.42148078, 0.51519874, 0.59004724, 0.61401271, 0.51959196,\n",
        "       0.41803244, 0.75651183, 0.6851764 , 0.43835799, 0.53803429,\n",
        "       0.32109122, 0.49139667, 0.43740161, 0.60515444, 0.6028803 ,\n",
        "       0.50560156, 0.57192461, 0.71634746, 0.38701729, 0.53235196,\n",
        "       0.40886518, 0.41700478, 0.55548547, 0.581273  , 0.67311741]"
      ],
      "outputs": [],
      "metadata": {}
    },
    {
      "cell_type": "code",
      "execution_count": 52,
      "source": [
        "# YOUR CHANGES HERE\n",
        "q14a_mean = sum(q14a) / len(q14a)\n",
        "q14b_mean = sum(q14b) / len(q14b)\n",
        "p14 = q14a_mean + q14b_mean"
      ],
      "outputs": [],
      "metadata": {}
    },
    {
      "cell_type": "markdown",
      "source": [
        "Check the value of `p14`."
      ],
      "metadata": {}
    },
    {
      "cell_type": "code",
      "execution_count": 53,
      "source": [
        "p14"
      ],
      "outputs": [
        {
          "output_type": "execute_result",
          "data": {
            "text/plain": [
              "2.6611238258"
            ]
          },
          "metadata": {},
          "execution_count": 53
        }
      ],
      "metadata": {}
    },
    {
      "cell_type": "markdown",
      "source": [
        "### Problem 15\n",
        "\n",
        "Write a function `p15` that returns the string \"You win!\" 1% of the time and \"Sorry\" the rest of the time."
      ],
      "metadata": {}
    },
    {
      "cell_type": "code",
      "execution_count": 56,
      "source": [
        "# YOUR CHANGES HERE\n",
        "\n",
        "def p15():\n",
        "    if random.random() < .1:\n",
        "        return \"You win!\"\n",
        "    return \"Sorry\""
      ],
      "outputs": [],
      "metadata": {}
    },
    {
      "cell_type": "markdown",
      "source": [
        "Test `p15`."
      ],
      "metadata": {}
    },
    {
      "cell_type": "code",
      "execution_count": 57,
      "source": [
        "[p15() for _ in range(10)]"
      ],
      "outputs": [
        {
          "output_type": "execute_result",
          "data": {
            "text/plain": [
              "['Sorry',\n",
              " 'Sorry',\n",
              " 'Sorry',\n",
              " 'Sorry',\n",
              " 'Sorry',\n",
              " 'You win!',\n",
              " 'Sorry',\n",
              " 'You win!',\n",
              " 'Sorry',\n",
              " 'Sorry']"
            ]
          },
          "metadata": {},
          "execution_count": 57
        }
      ],
      "metadata": {}
    },
    {
      "cell_type": "markdown",
      "source": [
        "### Problem 16\n",
        "\n",
        "The function `q16` below is the cumulative distribution function for an unknown distribution.\n",
        "Set `p16` to the median of that distribution."
      ],
      "metadata": {
        "id": "Y_DV5n5kIdYx"
      }
    },
    {
      "cell_type": "markdown",
      "source": [
        "Hint: you can figure this out by studying how `q16` works, or by calling it several times to understand the distribution that way.\n",
        "You may also find it helpful to plot the output of `q16`."
      ],
      "metadata": {}
    },
    {
      "cell_type": "code",
      "execution_count": 2,
      "source": [
        "# DO NOT CHANGE\n",
        "\n",
        "def q16(x):\n",
        "    if x < -4:\n",
        "        return 0\n",
        "    \n",
        "    elif -4 <= x < -3:\n",
        "        return ((x + 4) ** 2) / 2  # this is (x+4) squared, then divided by two\n",
        "    \n",
        "    elif -3 <= x < 0:\n",
        "        return (x / 6) + 1\n",
        "    \n",
        "    else:  # 0 <= x\n",
        "        return 1 \n"
      ],
      "outputs": [],
      "metadata": {}
    },
    {
      "cell_type": "markdown",
      "source": [
        "Here is an equivalent mathematical expression for the same function.\n",
        "\n",
        "\\begin{array}{rcl}\n",
        "q_{16}(x) & = & \\begin{cases}\n",
        "0 & \\text{if } x < -4  \\\\\n",
        "\\\\\n",
        "\\frac{(x+4)^2}{2} & \\text{if } -4 \\leq x < -3 \\\\\n",
        "\\\\\n",
        "\\frac{x}{6} + 1 & \\text{if } -3 \\leq x < 0 \\\\\n",
        "\\\\\n",
        "1 & \\text{otherwise}\n",
        "\\end{cases}\n",
        "\\end{array}"
      ],
      "metadata": {}
    },
    {
      "cell_type": "code",
      "execution_count": 31,
      "source": [
        "# YOUR ANSWER HERE\n",
        "x = []\n",
        "y = []\n",
        "for i in range(-100, 100, 1):\n",
        "    curr = i/10\n",
        "    x.append(curr)\n",
        "    y.append(q16(curr))\n",
        "plt.plot(x, y)\n",
        "# looks like maybe .5\n",
        "p16 = 0.5"
      ],
      "outputs": [
        {
          "output_type": "display_data",
          "data": {
            "text/plain": [
              "<Figure size 640x480 with 1 Axes>"
            ],
            "image/svg+xml": "<?xml version=\"1.0\" encoding=\"utf-8\" standalone=\"no\"?>\n<!DOCTYPE svg PUBLIC \"-//W3C//DTD SVG 1.1//EN\"\n  \"http://www.w3.org/Graphics/SVG/1.1/DTD/svg11.dtd\">\n<svg xmlns:xlink=\"http://www.w3.org/1999/xlink\" width=\"394.423125pt\" height=\"297.190125pt\" viewBox=\"0 0 394.423125 297.190125\" xmlns=\"http://www.w3.org/2000/svg\" version=\"1.1\">\n <metadata>\n  <rdf:RDF xmlns:dc=\"http://purl.org/dc/elements/1.1/\" xmlns:cc=\"http://creativecommons.org/ns#\" xmlns:rdf=\"http://www.w3.org/1999/02/22-rdf-syntax-ns#\">\n   <cc:Work>\n    <dc:type rdf:resource=\"http://purl.org/dc/dcmitype/StillImage\"/>\n    <dc:date>2025-10-01T18:44:11.125280</dc:date>\n    <dc:format>image/svg+xml</dc:format>\n    <dc:creator>\n     <cc:Agent>\n      <dc:title>Matplotlib v3.10.0, https://matplotlib.org/</dc:title>\n     </cc:Agent>\n    </dc:creator>\n   </cc:Work>\n  </rdf:RDF>\n </metadata>\n <defs>\n  <style type=\"text/css\">*{stroke-linejoin: round; stroke-linecap: butt}</style>\n </defs>\n <g id=\"figure_1\">\n  <g id=\"patch_1\">\n   <path d=\"M 0 297.190125 \nL 394.423125 297.190125 \nL 394.423125 0 \nL 0 0 \nz\n\" style=\"fill: #ffffff\"/>\n  </g>\n  <g id=\"axes_1\">\n   <g id=\"patch_2\">\n    <path d=\"M 30.103125 273.312 \nL 387.223125 273.312 \nL 387.223125 7.2 \nL 30.103125 7.2 \nz\n\" style=\"fill: #ffffff\"/>\n   </g>\n   <g id=\"matplotlib.axis_1\">\n    <g id=\"xtick_1\">\n     <g id=\"line2d_1\">\n      <defs>\n       <path id=\"m999cacc23a\" d=\"M 0 0 \nL 0 3.5 \n\" style=\"stroke: #000000; stroke-width: 0.8\"/>\n      </defs>\n      <g>\n       <use xlink:href=\"#m999cacc23a\" x=\"46.335852\" y=\"273.312\" style=\"stroke: #000000; stroke-width: 0.8\"/>\n      </g>\n     </g>\n     <g id=\"text_1\">\n      <!-- −10.0 -->\n      <g transform=\"translate(31.013196 287.910437) scale(0.1 -0.1)\">\n       <defs>\n        <path id=\"DejaVuSans-2212\" d=\"M 678 2272 \nL 4684 2272 \nL 4684 1741 \nL 678 1741 \nL 678 2272 \nz\n\" transform=\"scale(0.015625)\"/>\n        <path id=\"DejaVuSans-31\" d=\"M 794 531 \nL 1825 531 \nL 1825 4091 \nL 703 3866 \nL 703 4441 \nL 1819 4666 \nL 2450 4666 \nL 2450 531 \nL 3481 531 \nL 3481 0 \nL 794 0 \nL 794 531 \nz\n\" transform=\"scale(0.015625)\"/>\n        <path id=\"DejaVuSans-30\" d=\"M 2034 4250 \nQ 1547 4250 1301 3770 \nQ 1056 3291 1056 2328 \nQ 1056 1369 1301 889 \nQ 1547 409 2034 409 \nQ 2525 409 2770 889 \nQ 3016 1369 3016 2328 \nQ 3016 3291 2770 3770 \nQ 2525 4250 2034 4250 \nz\nM 2034 4750 \nQ 2819 4750 3233 4129 \nQ 3647 3509 3647 2328 \nQ 3647 1150 3233 529 \nQ 2819 -91 2034 -91 \nQ 1250 -91 836 529 \nQ 422 1150 422 2328 \nQ 422 3509 836 4129 \nQ 1250 4750 2034 4750 \nz\n\" transform=\"scale(0.015625)\"/>\n        <path id=\"DejaVuSans-2e\" d=\"M 684 794 \nL 1344 794 \nL 1344 0 \nL 684 0 \nL 684 794 \nz\n\" transform=\"scale(0.015625)\"/>\n       </defs>\n       <use xlink:href=\"#DejaVuSans-2212\"/>\n       <use xlink:href=\"#DejaVuSans-31\" transform=\"translate(83.789062 0)\"/>\n       <use xlink:href=\"#DejaVuSans-30\" transform=\"translate(147.412109 0)\"/>\n       <use xlink:href=\"#DejaVuSans-2e\" transform=\"translate(211.035156 0)\"/>\n       <use xlink:href=\"#DejaVuSans-30\" transform=\"translate(242.822266 0)\"/>\n      </g>\n     </g>\n    </g>\n    <g id=\"xtick_2\">\n     <g id=\"line2d_2\">\n      <g>\n       <use xlink:href=\"#m999cacc23a\" x=\"87.121599\" y=\"273.312\" style=\"stroke: #000000; stroke-width: 0.8\"/>\n      </g>\n     </g>\n     <g id=\"text_2\">\n      <!-- −7.5 -->\n      <g transform=\"translate(74.980193 287.910437) scale(0.1 -0.1)\">\n       <defs>\n        <path id=\"DejaVuSans-37\" d=\"M 525 4666 \nL 3525 4666 \nL 3525 4397 \nL 1831 0 \nL 1172 0 \nL 2766 4134 \nL 525 4134 \nL 525 4666 \nz\n\" transform=\"scale(0.015625)\"/>\n        <path id=\"DejaVuSans-35\" d=\"M 691 4666 \nL 3169 4666 \nL 3169 4134 \nL 1269 4134 \nL 1269 2991 \nQ 1406 3038 1543 3061 \nQ 1681 3084 1819 3084 \nQ 2600 3084 3056 2656 \nQ 3513 2228 3513 1497 \nQ 3513 744 3044 326 \nQ 2575 -91 1722 -91 \nQ 1428 -91 1123 -41 \nQ 819 9 494 109 \nL 494 744 \nQ 775 591 1075 516 \nQ 1375 441 1709 441 \nQ 2250 441 2565 725 \nQ 2881 1009 2881 1497 \nQ 2881 1984 2565 2268 \nQ 2250 2553 1709 2553 \nQ 1456 2553 1204 2497 \nQ 953 2441 691 2322 \nL 691 4666 \nz\n\" transform=\"scale(0.015625)\"/>\n       </defs>\n       <use xlink:href=\"#DejaVuSans-2212\"/>\n       <use xlink:href=\"#DejaVuSans-37\" transform=\"translate(83.789062 0)\"/>\n       <use xlink:href=\"#DejaVuSans-2e\" transform=\"translate(147.412109 0)\"/>\n       <use xlink:href=\"#DejaVuSans-35\" transform=\"translate(179.199219 0)\"/>\n      </g>\n     </g>\n    </g>\n    <g id=\"xtick_3\">\n     <g id=\"line2d_3\">\n      <g>\n       <use xlink:href=\"#m999cacc23a\" x=\"127.907346\" y=\"273.312\" style=\"stroke: #000000; stroke-width: 0.8\"/>\n      </g>\n     </g>\n     <g id=\"text_3\">\n      <!-- −5.0 -->\n      <g transform=\"translate(115.76594 287.910437) scale(0.1 -0.1)\">\n       <use xlink:href=\"#DejaVuSans-2212\"/>\n       <use xlink:href=\"#DejaVuSans-35\" transform=\"translate(83.789062 0)\"/>\n       <use xlink:href=\"#DejaVuSans-2e\" transform=\"translate(147.412109 0)\"/>\n       <use xlink:href=\"#DejaVuSans-30\" transform=\"translate(179.199219 0)\"/>\n      </g>\n     </g>\n    </g>\n    <g id=\"xtick_4\">\n     <g id=\"line2d_4\">\n      <g>\n       <use xlink:href=\"#m999cacc23a\" x=\"168.693093\" y=\"273.312\" style=\"stroke: #000000; stroke-width: 0.8\"/>\n      </g>\n     </g>\n     <g id=\"text_4\">\n      <!-- −2.5 -->\n      <g transform=\"translate(156.551687 287.910437) scale(0.1 -0.1)\">\n       <defs>\n        <path id=\"DejaVuSans-32\" d=\"M 1228 531 \nL 3431 531 \nL 3431 0 \nL 469 0 \nL 469 531 \nQ 828 903 1448 1529 \nQ 2069 2156 2228 2338 \nQ 2531 2678 2651 2914 \nQ 2772 3150 2772 3378 \nQ 2772 3750 2511 3984 \nQ 2250 4219 1831 4219 \nQ 1534 4219 1204 4116 \nQ 875 4013 500 3803 \nL 500 4441 \nQ 881 4594 1212 4672 \nQ 1544 4750 1819 4750 \nQ 2544 4750 2975 4387 \nQ 3406 4025 3406 3419 \nQ 3406 3131 3298 2873 \nQ 3191 2616 2906 2266 \nQ 2828 2175 2409 1742 \nQ 1991 1309 1228 531 \nz\n\" transform=\"scale(0.015625)\"/>\n       </defs>\n       <use xlink:href=\"#DejaVuSans-2212\"/>\n       <use xlink:href=\"#DejaVuSans-32\" transform=\"translate(83.789062 0)\"/>\n       <use xlink:href=\"#DejaVuSans-2e\" transform=\"translate(147.412109 0)\"/>\n       <use xlink:href=\"#DejaVuSans-35\" transform=\"translate(179.199219 0)\"/>\n      </g>\n     </g>\n    </g>\n    <g id=\"xtick_5\">\n     <g id=\"line2d_5\">\n      <g>\n       <use xlink:href=\"#m999cacc23a\" x=\"209.47884\" y=\"273.312\" style=\"stroke: #000000; stroke-width: 0.8\"/>\n      </g>\n     </g>\n     <g id=\"text_5\">\n      <!-- 0.0 -->\n      <g transform=\"translate(201.527277 287.910437) scale(0.1 -0.1)\">\n       <use xlink:href=\"#DejaVuSans-30\"/>\n       <use xlink:href=\"#DejaVuSans-2e\" transform=\"translate(63.623047 0)\"/>\n       <use xlink:href=\"#DejaVuSans-30\" transform=\"translate(95.410156 0)\"/>\n      </g>\n     </g>\n    </g>\n    <g id=\"xtick_6\">\n     <g id=\"line2d_6\">\n      <g>\n       <use xlink:href=\"#m999cacc23a\" x=\"250.264587\" y=\"273.312\" style=\"stroke: #000000; stroke-width: 0.8\"/>\n      </g>\n     </g>\n     <g id=\"text_6\">\n      <!-- 2.5 -->\n      <g transform=\"translate(242.313024 287.910437) scale(0.1 -0.1)\">\n       <use xlink:href=\"#DejaVuSans-32\"/>\n       <use xlink:href=\"#DejaVuSans-2e\" transform=\"translate(63.623047 0)\"/>\n       <use xlink:href=\"#DejaVuSans-35\" transform=\"translate(95.410156 0)\"/>\n      </g>\n     </g>\n    </g>\n    <g id=\"xtick_7\">\n     <g id=\"line2d_7\">\n      <g>\n       <use xlink:href=\"#m999cacc23a\" x=\"291.050334\" y=\"273.312\" style=\"stroke: #000000; stroke-width: 0.8\"/>\n      </g>\n     </g>\n     <g id=\"text_7\">\n      <!-- 5.0 -->\n      <g transform=\"translate(283.098771 287.910437) scale(0.1 -0.1)\">\n       <use xlink:href=\"#DejaVuSans-35\"/>\n       <use xlink:href=\"#DejaVuSans-2e\" transform=\"translate(63.623047 0)\"/>\n       <use xlink:href=\"#DejaVuSans-30\" transform=\"translate(95.410156 0)\"/>\n      </g>\n     </g>\n    </g>\n    <g id=\"xtick_8\">\n     <g id=\"line2d_8\">\n      <g>\n       <use xlink:href=\"#m999cacc23a\" x=\"331.836081\" y=\"273.312\" style=\"stroke: #000000; stroke-width: 0.8\"/>\n      </g>\n     </g>\n     <g id=\"text_8\">\n      <!-- 7.5 -->\n      <g transform=\"translate(323.884518 287.910437) scale(0.1 -0.1)\">\n       <use xlink:href=\"#DejaVuSans-37\"/>\n       <use xlink:href=\"#DejaVuSans-2e\" transform=\"translate(63.623047 0)\"/>\n       <use xlink:href=\"#DejaVuSans-35\" transform=\"translate(95.410156 0)\"/>\n      </g>\n     </g>\n    </g>\n    <g id=\"xtick_9\">\n     <g id=\"line2d_9\">\n      <g>\n       <use xlink:href=\"#m999cacc23a\" x=\"372.621828\" y=\"273.312\" style=\"stroke: #000000; stroke-width: 0.8\"/>\n      </g>\n     </g>\n     <g id=\"text_9\">\n      <!-- 10.0 -->\n      <g transform=\"translate(361.489015 287.910437) scale(0.1 -0.1)\">\n       <use xlink:href=\"#DejaVuSans-31\"/>\n       <use xlink:href=\"#DejaVuSans-30\" transform=\"translate(63.623047 0)\"/>\n       <use xlink:href=\"#DejaVuSans-2e\" transform=\"translate(127.246094 0)\"/>\n       <use xlink:href=\"#DejaVuSans-30\" transform=\"translate(159.033203 0)\"/>\n      </g>\n     </g>\n    </g>\n   </g>\n   <g id=\"matplotlib.axis_2\">\n    <g id=\"ytick_1\">\n     <g id=\"line2d_10\">\n      <defs>\n       <path id=\"m0f82a64896\" d=\"M 0 0 \nL -3.5 0 \n\" style=\"stroke: #000000; stroke-width: 0.8\"/>\n      </defs>\n      <g>\n       <use xlink:href=\"#m0f82a64896\" x=\"30.103125\" y=\"261.216\" style=\"stroke: #000000; stroke-width: 0.8\"/>\n      </g>\n     </g>\n     <g id=\"text_10\">\n      <!-- 0.0 -->\n      <g transform=\"translate(7.2 265.015219) scale(0.1 -0.1)\">\n       <use xlink:href=\"#DejaVuSans-30\"/>\n       <use xlink:href=\"#DejaVuSans-2e\" transform=\"translate(63.623047 0)\"/>\n       <use xlink:href=\"#DejaVuSans-30\" transform=\"translate(95.410156 0)\"/>\n      </g>\n     </g>\n    </g>\n    <g id=\"ytick_2\">\n     <g id=\"line2d_11\">\n      <g>\n       <use xlink:href=\"#m0f82a64896\" x=\"30.103125\" y=\"212.832\" style=\"stroke: #000000; stroke-width: 0.8\"/>\n      </g>\n     </g>\n     <g id=\"text_11\">\n      <!-- 0.2 -->\n      <g transform=\"translate(7.2 216.631219) scale(0.1 -0.1)\">\n       <use xlink:href=\"#DejaVuSans-30\"/>\n       <use xlink:href=\"#DejaVuSans-2e\" transform=\"translate(63.623047 0)\"/>\n       <use xlink:href=\"#DejaVuSans-32\" transform=\"translate(95.410156 0)\"/>\n      </g>\n     </g>\n    </g>\n    <g id=\"ytick_3\">\n     <g id=\"line2d_12\">\n      <g>\n       <use xlink:href=\"#m0f82a64896\" x=\"30.103125\" y=\"164.448\" style=\"stroke: #000000; stroke-width: 0.8\"/>\n      </g>\n     </g>\n     <g id=\"text_12\">\n      <!-- 0.4 -->\n      <g transform=\"translate(7.2 168.247219) scale(0.1 -0.1)\">\n       <defs>\n        <path id=\"DejaVuSans-34\" d=\"M 2419 4116 \nL 825 1625 \nL 2419 1625 \nL 2419 4116 \nz\nM 2253 4666 \nL 3047 4666 \nL 3047 1625 \nL 3713 1625 \nL 3713 1100 \nL 3047 1100 \nL 3047 0 \nL 2419 0 \nL 2419 1100 \nL 313 1100 \nL 313 1709 \nL 2253 4666 \nz\n\" transform=\"scale(0.015625)\"/>\n       </defs>\n       <use xlink:href=\"#DejaVuSans-30\"/>\n       <use xlink:href=\"#DejaVuSans-2e\" transform=\"translate(63.623047 0)\"/>\n       <use xlink:href=\"#DejaVuSans-34\" transform=\"translate(95.410156 0)\"/>\n      </g>\n     </g>\n    </g>\n    <g id=\"ytick_4\">\n     <g id=\"line2d_13\">\n      <g>\n       <use xlink:href=\"#m0f82a64896\" x=\"30.103125\" y=\"116.064\" style=\"stroke: #000000; stroke-width: 0.8\"/>\n      </g>\n     </g>\n     <g id=\"text_13\">\n      <!-- 0.6 -->\n      <g transform=\"translate(7.2 119.863219) scale(0.1 -0.1)\">\n       <defs>\n        <path id=\"DejaVuSans-36\" d=\"M 2113 2584 \nQ 1688 2584 1439 2293 \nQ 1191 2003 1191 1497 \nQ 1191 994 1439 701 \nQ 1688 409 2113 409 \nQ 2538 409 2786 701 \nQ 3034 994 3034 1497 \nQ 3034 2003 2786 2293 \nQ 2538 2584 2113 2584 \nz\nM 3366 4563 \nL 3366 3988 \nQ 3128 4100 2886 4159 \nQ 2644 4219 2406 4219 \nQ 1781 4219 1451 3797 \nQ 1122 3375 1075 2522 \nQ 1259 2794 1537 2939 \nQ 1816 3084 2150 3084 \nQ 2853 3084 3261 2657 \nQ 3669 2231 3669 1497 \nQ 3669 778 3244 343 \nQ 2819 -91 2113 -91 \nQ 1303 -91 875 529 \nQ 447 1150 447 2328 \nQ 447 3434 972 4092 \nQ 1497 4750 2381 4750 \nQ 2619 4750 2861 4703 \nQ 3103 4656 3366 4563 \nz\n\" transform=\"scale(0.015625)\"/>\n       </defs>\n       <use xlink:href=\"#DejaVuSans-30\"/>\n       <use xlink:href=\"#DejaVuSans-2e\" transform=\"translate(63.623047 0)\"/>\n       <use xlink:href=\"#DejaVuSans-36\" transform=\"translate(95.410156 0)\"/>\n      </g>\n     </g>\n    </g>\n    <g id=\"ytick_5\">\n     <g id=\"line2d_14\">\n      <g>\n       <use xlink:href=\"#m0f82a64896\" x=\"30.103125\" y=\"67.68\" style=\"stroke: #000000; stroke-width: 0.8\"/>\n      </g>\n     </g>\n     <g id=\"text_14\">\n      <!-- 0.8 -->\n      <g transform=\"translate(7.2 71.479219) scale(0.1 -0.1)\">\n       <defs>\n        <path id=\"DejaVuSans-38\" d=\"M 2034 2216 \nQ 1584 2216 1326 1975 \nQ 1069 1734 1069 1313 \nQ 1069 891 1326 650 \nQ 1584 409 2034 409 \nQ 2484 409 2743 651 \nQ 3003 894 3003 1313 \nQ 3003 1734 2745 1975 \nQ 2488 2216 2034 2216 \nz\nM 1403 2484 \nQ 997 2584 770 2862 \nQ 544 3141 544 3541 \nQ 544 4100 942 4425 \nQ 1341 4750 2034 4750 \nQ 2731 4750 3128 4425 \nQ 3525 4100 3525 3541 \nQ 3525 3141 3298 2862 \nQ 3072 2584 2669 2484 \nQ 3125 2378 3379 2068 \nQ 3634 1759 3634 1313 \nQ 3634 634 3220 271 \nQ 2806 -91 2034 -91 \nQ 1263 -91 848 271 \nQ 434 634 434 1313 \nQ 434 1759 690 2068 \nQ 947 2378 1403 2484 \nz\nM 1172 3481 \nQ 1172 3119 1398 2916 \nQ 1625 2713 2034 2713 \nQ 2441 2713 2670 2916 \nQ 2900 3119 2900 3481 \nQ 2900 3844 2670 4047 \nQ 2441 4250 2034 4250 \nQ 1625 4250 1398 4047 \nQ 1172 3844 1172 3481 \nz\n\" transform=\"scale(0.015625)\"/>\n       </defs>\n       <use xlink:href=\"#DejaVuSans-30\"/>\n       <use xlink:href=\"#DejaVuSans-2e\" transform=\"translate(63.623047 0)\"/>\n       <use xlink:href=\"#DejaVuSans-38\" transform=\"translate(95.410156 0)\"/>\n      </g>\n     </g>\n    </g>\n    <g id=\"ytick_6\">\n     <g id=\"line2d_15\">\n      <g>\n       <use xlink:href=\"#m0f82a64896\" x=\"30.103125\" y=\"19.296\" style=\"stroke: #000000; stroke-width: 0.8\"/>\n      </g>\n     </g>\n     <g id=\"text_15\">\n      <!-- 1.0 -->\n      <g transform=\"translate(7.2 23.095219) scale(0.1 -0.1)\">\n       <use xlink:href=\"#DejaVuSans-31\"/>\n       <use xlink:href=\"#DejaVuSans-2e\" transform=\"translate(63.623047 0)\"/>\n       <use xlink:href=\"#DejaVuSans-30\" transform=\"translate(95.410156 0)\"/>\n      </g>\n     </g>\n    </g>\n   </g>\n   <g id=\"line2d_16\">\n    <path d=\"M 46.335852 261.216 \nL 144.221645 261.216 \nL 145.853075 260.0064 \nL 147.484505 256.3776 \nL 149.115935 250.3296 \nL 150.747364 241.8624 \nL 152.378794 230.976 \nL 154.010224 217.6704 \nL 155.641654 201.9456 \nL 157.273084 183.8016 \nL 158.904514 163.2384 \nL 160.535944 140.256 \nL 209.47884 19.296 \nL 370.990398 19.296 \nL 370.990398 19.296 \n\" clip-path=\"url(#p57eaafd0a4)\" style=\"fill: none; stroke: #1f77b4; stroke-width: 1.5; stroke-linecap: square\"/>\n   </g>\n   <g id=\"patch_3\">\n    <path d=\"M 30.103125 273.312 \nL 30.103125 7.2 \n\" style=\"fill: none; stroke: #000000; stroke-width: 0.8; stroke-linejoin: miter; stroke-linecap: square\"/>\n   </g>\n   <g id=\"patch_4\">\n    <path d=\"M 387.223125 273.312 \nL 387.223125 7.2 \n\" style=\"fill: none; stroke: #000000; stroke-width: 0.8; stroke-linejoin: miter; stroke-linecap: square\"/>\n   </g>\n   <g id=\"patch_5\">\n    <path d=\"M 30.103125 273.312 \nL 387.223125 273.312 \n\" style=\"fill: none; stroke: #000000; stroke-width: 0.8; stroke-linejoin: miter; stroke-linecap: square\"/>\n   </g>\n   <g id=\"patch_6\">\n    <path d=\"M 30.103125 7.2 \nL 387.223125 7.2 \n\" style=\"fill: none; stroke: #000000; stroke-width: 0.8; stroke-linejoin: miter; stroke-linecap: square\"/>\n   </g>\n  </g>\n </g>\n <defs>\n  <clipPath id=\"p57eaafd0a4\">\n   <rect x=\"30.103125\" y=\"7.2\" width=\"357.12\" height=\"266.112\"/>\n  </clipPath>\n </defs>\n</svg>\n",
            "image/png": "[encoded data removed]"
          },
          "metadata": {}
        }
      ],
      "metadata": {}
    },
    {
      "cell_type": "markdown",
      "source": [
        "Check the value of `p16`."
      ],
      "metadata": {}
    },
    {
      "cell_type": "code",
      "execution_count": 32,
      "source": [
        "p16"
      ],
      "outputs": [
        {
          "output_type": "execute_result",
          "data": {
            "text/plain": [
              "0.5"
            ]
          },
          "metadata": {},
          "execution_count": 32
        }
      ],
      "metadata": {}
    },
    {
      "cell_type": "markdown",
      "source": [
        "### Problem 17\n",
        "\n",
        "Suppose that random variable $X$ is sampled uniform randomly from the range $[0,1)$, and the random variable $Y$ is defined to be $Y = 3X + 1$.\n",
        "Set `p17` to be the mean of $Y$."
      ],
      "metadata": {
        "id": "w97gCVeiIdCK"
      }
    },
    {
      "cell_type": "markdown",
      "source": [
        "Hint: it will probably help to think about the range of $Y$ and what the distribution within that range looks like."
      ],
      "metadata": {}
    },
    {
      "cell_type": "code",
      "execution_count": 34,
      "source": [
        "# YOUR CHANGES HERE\n",
        "\n",
        "x = []\n",
        "y = []\n",
        "for i in range(0, 100, 1):\n",
        "    curr = i/10\n",
        "    x.append(curr)\n",
        "    y.append(3*(curr/10) + 1)\n",
        "plt.plot(x, y)\n",
        "# looks like maybe 2.5\n",
        "p17 = 2.5"
      ],
      "outputs": [
        {
          "output_type": "display_data",
          "data": {
            "text/plain": [
              "<Figure size 640x480 with 1 Axes>"
            ],
            "image/svg+xml": "<?xml version=\"1.0\" encoding=\"utf-8\" standalone=\"no\"?>\n<!DOCTYPE svg PUBLIC \"-//W3C//DTD SVG 1.1//EN\"\n  \"http://www.w3.org/Graphics/SVG/1.1/DTD/svg11.dtd\">\n<svg xmlns:xlink=\"http://www.w3.org/1999/xlink\" width=\"394.423125pt\" height=\"297.190125pt\" viewBox=\"0 0 394.423125 297.190125\" xmlns=\"http://www.w3.org/2000/svg\" version=\"1.1\">\n <metadata>\n  <rdf:RDF xmlns:dc=\"http://purl.org/dc/elements/1.1/\" xmlns:cc=\"http://creativecommons.org/ns#\" xmlns:rdf=\"http://www.w3.org/1999/02/22-rdf-syntax-ns#\">\n   <cc:Work>\n    <dc:type rdf:resource=\"http://purl.org/dc/dcmitype/StillImage\"/>\n    <dc:date>2025-10-01T18:46:05.082430</dc:date>\n    <dc:format>image/svg+xml</dc:format>\n    <dc:creator>\n     <cc:Agent>\n      <dc:title>Matplotlib v3.10.0, https://matplotlib.org/</dc:title>\n     </cc:Agent>\n    </dc:creator>\n   </cc:Work>\n  </rdf:RDF>\n </metadata>\n <defs>\n  <style type=\"text/css\">*{stroke-linejoin: round; stroke-linecap: butt}</style>\n </defs>\n <g id=\"figure_1\">\n  <g id=\"patch_1\">\n   <path d=\"M 0 297.190125 \nL 394.423125 297.190125 \nL 394.423125 0 \nL 0 0 \nz\n\" style=\"fill: #ffffff\"/>\n  </g>\n  <g id=\"axes_1\">\n   <g id=\"patch_2\">\n    <path d=\"M 30.103125 273.312 \nL 387.223125 273.312 \nL 387.223125 7.2 \nL 30.103125 7.2 \nz\n\" style=\"fill: #ffffff\"/>\n   </g>\n   <g id=\"matplotlib.axis_1\">\n    <g id=\"xtick_1\">\n     <g id=\"line2d_1\">\n      <defs>\n       <path id=\"mc520957f28\" d=\"M 0 0 \nL 0 3.5 \n\" style=\"stroke: #000000; stroke-width: 0.8\"/>\n      </defs>\n      <g>\n       <use xlink:href=\"#mc520957f28\" x=\"46.335852\" y=\"273.312\" style=\"stroke: #000000; stroke-width: 0.8\"/>\n      </g>\n     </g>\n     <g id=\"text_1\">\n      <!-- 0 -->\n      <g transform=\"translate(43.154602 287.910437) scale(0.1 -0.1)\">\n       <defs>\n        <path id=\"DejaVuSans-30\" d=\"M 2034 4250 \nQ 1547 4250 1301 3770 \nQ 1056 3291 1056 2328 \nQ 1056 1369 1301 889 \nQ 1547 409 2034 409 \nQ 2525 409 2770 889 \nQ 3016 1369 3016 2328 \nQ 3016 3291 2770 3770 \nQ 2525 4250 2034 4250 \nz\nM 2034 4750 \nQ 2819 4750 3233 4129 \nQ 3647 3509 3647 2328 \nQ 3647 1150 3233 529 \nQ 2819 -91 2034 -91 \nQ 1250 -91 836 529 \nQ 422 1150 422 2328 \nQ 422 3509 836 4129 \nQ 1250 4750 2034 4750 \nz\n\" transform=\"scale(0.015625)\"/>\n       </defs>\n       <use xlink:href=\"#DejaVuSans-30\"/>\n      </g>\n     </g>\n    </g>\n    <g id=\"xtick_2\">\n     <g id=\"line2d_2\">\n      <g>\n       <use xlink:href=\"#mc520957f28\" x=\"111.922629\" y=\"273.312\" style=\"stroke: #000000; stroke-width: 0.8\"/>\n      </g>\n     </g>\n     <g id=\"text_2\">\n      <!-- 2 -->\n      <g transform=\"translate(108.741379 287.910437) scale(0.1 -0.1)\">\n       <defs>\n        <path id=\"DejaVuSans-32\" d=\"M 1228 531 \nL 3431 531 \nL 3431 0 \nL 469 0 \nL 469 531 \nQ 828 903 1448 1529 \nQ 2069 2156 2228 2338 \nQ 2531 2678 2651 2914 \nQ 2772 3150 2772 3378 \nQ 2772 3750 2511 3984 \nQ 2250 4219 1831 4219 \nQ 1534 4219 1204 4116 \nQ 875 4013 500 3803 \nL 500 4441 \nQ 881 4594 1212 4672 \nQ 1544 4750 1819 4750 \nQ 2544 4750 2975 4387 \nQ 3406 4025 3406 3419 \nQ 3406 3131 3298 2873 \nQ 3191 2616 2906 2266 \nQ 2828 2175 2409 1742 \nQ 1991 1309 1228 531 \nz\n\" transform=\"scale(0.015625)\"/>\n       </defs>\n       <use xlink:href=\"#DejaVuSans-32\"/>\n      </g>\n     </g>\n    </g>\n    <g id=\"xtick_3\">\n     <g id=\"line2d_3\">\n      <g>\n       <use xlink:href=\"#mc520957f28\" x=\"177.509406\" y=\"273.312\" style=\"stroke: #000000; stroke-width: 0.8\"/>\n      </g>\n     </g>\n     <g id=\"text_3\">\n      <!-- 4 -->\n      <g transform=\"translate(174.328156 287.910437) scale(0.1 -0.1)\">\n       <defs>\n        <path id=\"DejaVuSans-34\" d=\"M 2419 4116 \nL 825 1625 \nL 2419 1625 \nL 2419 4116 \nz\nM 2253 4666 \nL 3047 4666 \nL 3047 1625 \nL 3713 1625 \nL 3713 1100 \nL 3047 1100 \nL 3047 0 \nL 2419 0 \nL 2419 1100 \nL 313 1100 \nL 313 1709 \nL 2253 4666 \nz\n\" transform=\"scale(0.015625)\"/>\n       </defs>\n       <use xlink:href=\"#DejaVuSans-34\"/>\n      </g>\n     </g>\n    </g>\n    <g id=\"xtick_4\">\n     <g id=\"line2d_4\">\n      <g>\n       <use xlink:href=\"#mc520957f28\" x=\"243.096183\" y=\"273.312\" style=\"stroke: #000000; stroke-width: 0.8\"/>\n      </g>\n     </g>\n     <g id=\"text_4\">\n      <!-- 6 -->\n      <g transform=\"translate(239.914933 287.910437) scale(0.1 -0.1)\">\n       <defs>\n        <path id=\"DejaVuSans-36\" d=\"M 2113 2584 \nQ 1688 2584 1439 2293 \nQ 1191 2003 1191 1497 \nQ 1191 994 1439 701 \nQ 1688 409 2113 409 \nQ 2538 409 2786 701 \nQ 3034 994 3034 1497 \nQ 3034 2003 2786 2293 \nQ 2538 2584 2113 2584 \nz\nM 3366 4563 \nL 3366 3988 \nQ 3128 4100 2886 4159 \nQ 2644 4219 2406 4219 \nQ 1781 4219 1451 3797 \nQ 1122 3375 1075 2522 \nQ 1259 2794 1537 2939 \nQ 1816 3084 2150 3084 \nQ 2853 3084 3261 2657 \nQ 3669 2231 3669 1497 \nQ 3669 778 3244 343 \nQ 2819 -91 2113 -91 \nQ 1303 -91 875 529 \nQ 447 1150 447 2328 \nQ 447 3434 972 4092 \nQ 1497 4750 2381 4750 \nQ 2619 4750 2861 4703 \nQ 3103 4656 3366 4563 \nz\n\" transform=\"scale(0.015625)\"/>\n       </defs>\n       <use xlink:href=\"#DejaVuSans-36\"/>\n      </g>\n     </g>\n    </g>\n    <g id=\"xtick_5\">\n     <g id=\"line2d_5\">\n      <g>\n       <use xlink:href=\"#mc520957f28\" x=\"308.68296\" y=\"273.312\" style=\"stroke: #000000; stroke-width: 0.8\"/>\n      </g>\n     </g>\n     <g id=\"text_5\">\n      <!-- 8 -->\n      <g transform=\"translate(305.50171 287.910437) scale(0.1 -0.1)\">\n       <defs>\n        <path id=\"DejaVuSans-38\" d=\"M 2034 2216 \nQ 1584 2216 1326 1975 \nQ 1069 1734 1069 1313 \nQ 1069 891 1326 650 \nQ 1584 409 2034 409 \nQ 2484 409 2743 651 \nQ 3003 894 3003 1313 \nQ 3003 1734 2745 1975 \nQ 2488 2216 2034 2216 \nz\nM 1403 2484 \nQ 997 2584 770 2862 \nQ 544 3141 544 3541 \nQ 544 4100 942 4425 \nQ 1341 4750 2034 4750 \nQ 2731 4750 3128 4425 \nQ 3525 4100 3525 3541 \nQ 3525 3141 3298 2862 \nQ 3072 2584 2669 2484 \nQ 3125 2378 3379 2068 \nQ 3634 1759 3634 1313 \nQ 3634 634 3220 271 \nQ 2806 -91 2034 -91 \nQ 1263 -91 848 271 \nQ 434 634 434 1313 \nQ 434 1759 690 2068 \nQ 947 2378 1403 2484 \nz\nM 1172 3481 \nQ 1172 3119 1398 2916 \nQ 1625 2713 2034 2713 \nQ 2441 2713 2670 2916 \nQ 2900 3119 2900 3481 \nQ 2900 3844 2670 4047 \nQ 2441 4250 2034 4250 \nQ 1625 4250 1398 4047 \nQ 1172 3844 1172 3481 \nz\n\" transform=\"scale(0.015625)\"/>\n       </defs>\n       <use xlink:href=\"#DejaVuSans-38\"/>\n      </g>\n     </g>\n    </g>\n    <g id=\"xtick_6\">\n     <g id=\"line2d_6\">\n      <g>\n       <use xlink:href=\"#mc520957f28\" x=\"374.269737\" y=\"273.312\" style=\"stroke: #000000; stroke-width: 0.8\"/>\n      </g>\n     </g>\n     <g id=\"text_6\">\n      <!-- 10 -->\n      <g transform=\"translate(367.907237 287.910437) scale(0.1 -0.1)\">\n       <defs>\n        <path id=\"DejaVuSans-31\" d=\"M 794 531 \nL 1825 531 \nL 1825 4091 \nL 703 3866 \nL 703 4441 \nL 1819 4666 \nL 2450 4666 \nL 2450 531 \nL 3481 531 \nL 3481 0 \nL 794 0 \nL 794 531 \nz\n\" transform=\"scale(0.015625)\"/>\n       </defs>\n       <use xlink:href=\"#DejaVuSans-31\"/>\n       <use xlink:href=\"#DejaVuSans-30\" transform=\"translate(63.623047 0)\"/>\n      </g>\n     </g>\n    </g>\n   </g>\n   <g id=\"matplotlib.axis_2\">\n    <g id=\"ytick_1\">\n     <g id=\"line2d_7\">\n      <defs>\n       <path id=\"me0d371ccf4\" d=\"M 0 0 \nL -3.5 0 \n\" style=\"stroke: #000000; stroke-width: 0.8\"/>\n      </defs>\n      <g>\n       <use xlink:href=\"#me0d371ccf4\" x=\"30.103125\" y=\"261.216\" style=\"stroke: #000000; stroke-width: 0.8\"/>\n      </g>\n     </g>\n     <g id=\"text_7\">\n      <!-- 1.0 -->\n      <g transform=\"translate(7.2 265.015219) scale(0.1 -0.1)\">\n       <defs>\n        <path id=\"DejaVuSans-2e\" d=\"M 684 794 \nL 1344 794 \nL 1344 0 \nL 684 0 \nL 684 794 \nz\n\" transform=\"scale(0.015625)\"/>\n       </defs>\n       <use xlink:href=\"#DejaVuSans-31\"/>\n       <use xlink:href=\"#DejaVuSans-2e\" transform=\"translate(63.623047 0)\"/>\n       <use xlink:href=\"#DejaVuSans-30\" transform=\"translate(95.410156 0)\"/>\n      </g>\n     </g>\n    </g>\n    <g id=\"ytick_2\">\n     <g id=\"line2d_8\">\n      <g>\n       <use xlink:href=\"#me0d371ccf4\" x=\"30.103125\" y=\"220.488727\" style=\"stroke: #000000; stroke-width: 0.8\"/>\n      </g>\n     </g>\n     <g id=\"text_8\">\n      <!-- 1.5 -->\n      <g transform=\"translate(7.2 224.287946) scale(0.1 -0.1)\">\n       <defs>\n        <path id=\"DejaVuSans-35\" d=\"M 691 4666 \nL 3169 4666 \nL 3169 4134 \nL 1269 4134 \nL 1269 2991 \nQ 1406 3038 1543 3061 \nQ 1681 3084 1819 3084 \nQ 2600 3084 3056 2656 \nQ 3513 2228 3513 1497 \nQ 3513 744 3044 326 \nQ 2575 -91 1722 -91 \nQ 1428 -91 1123 -41 \nQ 819 9 494 109 \nL 494 744 \nQ 775 591 1075 516 \nQ 1375 441 1709 441 \nQ 2250 441 2565 725 \nQ 2881 1009 2881 1497 \nQ 2881 1984 2565 2268 \nQ 2250 2553 1709 2553 \nQ 1456 2553 1204 2497 \nQ 953 2441 691 2322 \nL 691 4666 \nz\n\" transform=\"scale(0.015625)\"/>\n       </defs>\n       <use xlink:href=\"#DejaVuSans-31\"/>\n       <use xlink:href=\"#DejaVuSans-2e\" transform=\"translate(63.623047 0)\"/>\n       <use xlink:href=\"#DejaVuSans-35\" transform=\"translate(95.410156 0)\"/>\n      </g>\n     </g>\n    </g>\n    <g id=\"ytick_3\">\n     <g id=\"line2d_9\">\n      <g>\n       <use xlink:href=\"#me0d371ccf4\" x=\"30.103125\" y=\"179.761455\" style=\"stroke: #000000; stroke-width: 0.8\"/>\n      </g>\n     </g>\n     <g id=\"text_9\">\n      <!-- 2.0 -->\n      <g transform=\"translate(7.2 183.560673) scale(0.1 -0.1)\">\n       <use xlink:href=\"#DejaVuSans-32\"/>\n       <use xlink:href=\"#DejaVuSans-2e\" transform=\"translate(63.623047 0)\"/>\n       <use xlink:href=\"#DejaVuSans-30\" transform=\"translate(95.410156 0)\"/>\n      </g>\n     </g>\n    </g>\n    <g id=\"ytick_4\">\n     <g id=\"line2d_10\">\n      <g>\n       <use xlink:href=\"#me0d371ccf4\" x=\"30.103125\" y=\"139.034182\" style=\"stroke: #000000; stroke-width: 0.8\"/>\n      </g>\n     </g>\n     <g id=\"text_10\">\n      <!-- 2.5 -->\n      <g transform=\"translate(7.2 142.833401) scale(0.1 -0.1)\">\n       <use xlink:href=\"#DejaVuSans-32\"/>\n       <use xlink:href=\"#DejaVuSans-2e\" transform=\"translate(63.623047 0)\"/>\n       <use xlink:href=\"#DejaVuSans-35\" transform=\"translate(95.410156 0)\"/>\n      </g>\n     </g>\n    </g>\n    <g id=\"ytick_5\">\n     <g id=\"line2d_11\">\n      <g>\n       <use xlink:href=\"#me0d371ccf4\" x=\"30.103125\" y=\"98.306909\" style=\"stroke: #000000; stroke-width: 0.8\"/>\n      </g>\n     </g>\n     <g id=\"text_11\">\n      <!-- 3.0 -->\n      <g transform=\"translate(7.2 102.106128) scale(0.1 -0.1)\">\n       <defs>\n        <path id=\"DejaVuSans-33\" d=\"M 2597 2516 \nQ 3050 2419 3304 2112 \nQ 3559 1806 3559 1356 \nQ 3559 666 3084 287 \nQ 2609 -91 1734 -91 \nQ 1441 -91 1130 -33 \nQ 819 25 488 141 \nL 488 750 \nQ 750 597 1062 519 \nQ 1375 441 1716 441 \nQ 2309 441 2620 675 \nQ 2931 909 2931 1356 \nQ 2931 1769 2642 2001 \nQ 2353 2234 1838 2234 \nL 1294 2234 \nL 1294 2753 \nL 1863 2753 \nQ 2328 2753 2575 2939 \nQ 2822 3125 2822 3475 \nQ 2822 3834 2567 4026 \nQ 2313 4219 1838 4219 \nQ 1578 4219 1281 4162 \nQ 984 4106 628 3988 \nL 628 4550 \nQ 988 4650 1302 4700 \nQ 1616 4750 1894 4750 \nQ 2613 4750 3031 4423 \nQ 3450 4097 3450 3541 \nQ 3450 3153 3228 2886 \nQ 3006 2619 2597 2516 \nz\n\" transform=\"scale(0.015625)\"/>\n       </defs>\n       <use xlink:href=\"#DejaVuSans-33\"/>\n       <use xlink:href=\"#DejaVuSans-2e\" transform=\"translate(63.623047 0)\"/>\n       <use xlink:href=\"#DejaVuSans-30\" transform=\"translate(95.410156 0)\"/>\n      </g>\n     </g>\n    </g>\n    <g id=\"ytick_6\">\n     <g id=\"line2d_12\">\n      <g>\n       <use xlink:href=\"#me0d371ccf4\" x=\"30.103125\" y=\"57.579636\" style=\"stroke: #000000; stroke-width: 0.8\"/>\n      </g>\n     </g>\n     <g id=\"text_12\">\n      <!-- 3.5 -->\n      <g transform=\"translate(7.2 61.378855) scale(0.1 -0.1)\">\n       <use xlink:href=\"#DejaVuSans-33\"/>\n       <use xlink:href=\"#DejaVuSans-2e\" transform=\"translate(63.623047 0)\"/>\n       <use xlink:href=\"#DejaVuSans-35\" transform=\"translate(95.410156 0)\"/>\n      </g>\n     </g>\n    </g>\n    <g id=\"ytick_7\">\n     <g id=\"line2d_13\">\n      <g>\n       <use xlink:href=\"#me0d371ccf4\" x=\"30.103125\" y=\"16.852364\" style=\"stroke: #000000; stroke-width: 0.8\"/>\n      </g>\n     </g>\n     <g id=\"text_13\">\n      <!-- 4.0 -->\n      <g transform=\"translate(7.2 20.651582) scale(0.1 -0.1)\">\n       <use xlink:href=\"#DejaVuSans-34\"/>\n       <use xlink:href=\"#DejaVuSans-2e\" transform=\"translate(63.623047 0)\"/>\n       <use xlink:href=\"#DejaVuSans-30\" transform=\"translate(95.410156 0)\"/>\n      </g>\n     </g>\n    </g>\n   </g>\n   <g id=\"line2d_14\">\n    <path d=\"M 46.335852 261.216 \nL 49.615191 258.772364 \nL 52.89453 256.328727 \nL 56.173869 253.885091 \nL 59.453208 251.441455 \nL 62.732546 248.997818 \nL 66.011885 246.554182 \nL 69.291224 244.110545 \nL 72.570563 241.666909 \nL 75.849902 239.223273 \nL 79.129241 236.779636 \nL 82.40858 234.336 \nL 85.687918 231.892364 \nL 88.967257 229.448727 \nL 92.246596 227.005091 \nL 95.525935 224.561455 \nL 98.805274 222.117818 \nL 102.084613 219.674182 \nL 105.363951 217.230545 \nL 108.64329 214.786909 \nL 111.922629 212.343273 \nL 115.201968 209.899636 \nL 118.481307 207.456 \nL 121.760646 205.012364 \nL 125.039985 202.568727 \nL 128.319323 200.125091 \nL 131.598662 197.681455 \nL 134.878001 195.237818 \nL 138.15734 192.794182 \nL 141.436679 190.350545 \nL 144.716018 187.906909 \nL 147.995356 185.463273 \nL 151.274695 183.019636 \nL 154.554034 180.576 \nL 157.833373 178.132364 \nL 161.112712 175.688727 \nL 164.392051 173.245091 \nL 167.671389 170.801455 \nL 170.950728 168.357818 \nL 174.230067 165.914182 \nL 177.509406 163.470545 \nL 180.788745 161.026909 \nL 184.068084 158.583273 \nL 187.347423 156.139636 \nL 190.626761 153.696 \nL 193.9061 151.252364 \nL 197.185439 148.808727 \nL 200.464778 146.365091 \nL 203.744117 143.921455 \nL 207.023456 141.477818 \nL 210.302794 139.034182 \nL 213.582133 136.590545 \nL 216.861472 134.146909 \nL 220.140811 131.703273 \nL 223.42015 129.259636 \nL 226.699489 126.816 \nL 229.978827 124.372364 \nL 233.258166 121.928727 \nL 236.537505 119.485091 \nL 239.816844 117.041455 \nL 243.096183 114.597818 \nL 246.375522 112.154182 \nL 249.654861 109.710545 \nL 252.934199 107.266909 \nL 256.213538 104.823273 \nL 259.492877 102.379636 \nL 262.772216 99.936 \nL 266.051555 97.492364 \nL 269.330894 95.048727 \nL 272.610232 92.605091 \nL 275.889571 90.161455 \nL 279.16891 87.717818 \nL 282.448249 85.274182 \nL 285.727588 82.830545 \nL 289.006927 80.386909 \nL 292.286265 77.943273 \nL 295.565604 75.499636 \nL 298.844943 73.056 \nL 302.124282 70.612364 \nL 305.403621 68.168727 \nL 308.68296 65.725091 \nL 311.962299 63.281455 \nL 315.241637 60.837818 \nL 318.520976 58.394182 \nL 321.800315 55.950545 \nL 325.079654 53.506909 \nL 328.358993 51.063273 \nL 331.638332 48.619636 \nL 334.91767 46.176 \nL 338.197009 43.732364 \nL 341.476348 41.288727 \nL 344.755687 38.845091 \nL 348.035026 36.401455 \nL 351.314365 33.957818 \nL 354.593704 31.514182 \nL 357.873042 29.070545 \nL 361.152381 26.626909 \nL 364.43172 24.183273 \nL 367.711059 21.739636 \nL 370.990398 19.296 \n\" clip-path=\"url(#p41f543e8ce)\" style=\"fill: none; stroke: #1f77b4; stroke-width: 1.5; stroke-linecap: square\"/>\n   </g>\n   <g id=\"patch_3\">\n    <path d=\"M 30.103125 273.312 \nL 30.103125 7.2 \n\" style=\"fill: none; stroke: #000000; stroke-width: 0.8; stroke-linejoin: miter; stroke-linecap: square\"/>\n   </g>\n   <g id=\"patch_4\">\n    <path d=\"M 387.223125 273.312 \nL 387.223125 7.2 \n\" style=\"fill: none; stroke: #000000; stroke-width: 0.8; stroke-linejoin: miter; stroke-linecap: square\"/>\n   </g>\n   <g id=\"patch_5\">\n    <path d=\"M 30.103125 273.312 \nL 387.223125 273.312 \n\" style=\"fill: none; stroke: #000000; stroke-width: 0.8; stroke-linejoin: miter; stroke-linecap: square\"/>\n   </g>\n   <g id=\"patch_6\">\n    <path d=\"M 30.103125 7.2 \nL 387.223125 7.2 \n\" style=\"fill: none; stroke: #000000; stroke-width: 0.8; stroke-linejoin: miter; stroke-linecap: square\"/>\n   </g>\n  </g>\n </g>\n <defs>\n  <clipPath id=\"p41f543e8ce\">\n   <rect x=\"30.103125\" y=\"7.2\" width=\"357.12\" height=\"266.112\"/>\n  </clipPath>\n </defs>\n</svg>\n",
            "image/png": "[encoded data removed]"
          },
          "metadata": {}
        }
      ],
      "metadata": {}
    },
    {
      "cell_type": "code",
      "execution_count": 35,
      "source": [
        "p17"
      ],
      "outputs": [
        {
          "output_type": "execute_result",
          "data": {
            "text/plain": [
              "2.5"
            ]
          },
          "metadata": {},
          "execution_count": 35
        }
      ],
      "metadata": {}
    },
    {
      "cell_type": "markdown",
      "source": [
        "### Problem 18\n",
        "\n",
        "Suppose variable $X$ is uniformly distributed between 2 and 4, and $Y = X+1$ if $X > 3$ and $Y = 1$ otherwise.\n",
        "Set `p18` to the average value of $Y$."
      ],
      "metadata": {
        "id": "4KFdwSFBIcoo"
      }
    },
    {
      "cell_type": "markdown",
      "source": [
        "Hint: Try drawing or plotting the value of $Y$ as a function of $X$."
      ],
      "metadata": {}
    },
    {
      "cell_type": "code",
      "execution_count": 38,
      "source": [
        "# YOUR CHANGES HERE\n",
        "def q18(x):\n",
        "    if x > 3:\n",
        "        return x+1\n",
        "    return 1\n",
        "\n",
        "x = []\n",
        "y = []\n",
        "for i in range(20, 40, 1):\n",
        "    curr = i/10\n",
        "    x.append(curr)\n",
        "    y.append(q18(curr))\n",
        "plt.plot(x, y)\n",
        "# looks like maybe 2.5\n",
        "p18 = 2.5"
      ],
      "outputs": [
        {
          "output_type": "display_data",
          "data": {
            "text/plain": [
              "<Figure size 640x480 with 1 Axes>"
            ],
            "image/svg+xml": "<?xml version=\"1.0\" encoding=\"utf-8\" standalone=\"no\"?>\n<!DOCTYPE svg PUBLIC \"-//W3C//DTD SVG 1.1//EN\"\n  \"http://www.w3.org/Graphics/SVG/1.1/DTD/svg11.dtd\">\n<svg xmlns:xlink=\"http://www.w3.org/1999/xlink\" width=\"394.423125pt\" height=\"297.190125pt\" viewBox=\"0 0 394.423125 297.190125\" xmlns=\"http://www.w3.org/2000/svg\" version=\"1.1\">\n <metadata>\n  <rdf:RDF xmlns:dc=\"http://purl.org/dc/elements/1.1/\" xmlns:cc=\"http://creativecommons.org/ns#\" xmlns:rdf=\"http://www.w3.org/1999/02/22-rdf-syntax-ns#\">\n   <cc:Work>\n    <dc:type rdf:resource=\"http://purl.org/dc/dcmitype/StillImage\"/>\n    <dc:date>2025-10-01T18:48:16.136634</dc:date>\n    <dc:format>image/svg+xml</dc:format>\n    <dc:creator>\n     <cc:Agent>\n      <dc:title>Matplotlib v3.10.0, https://matplotlib.org/</dc:title>\n     </cc:Agent>\n    </dc:creator>\n   </cc:Work>\n  </rdf:RDF>\n </metadata>\n <defs>\n  <style type=\"text/css\">*{stroke-linejoin: round; stroke-linecap: butt}</style>\n </defs>\n <g id=\"figure_1\">\n  <g id=\"patch_1\">\n   <path d=\"M 0 297.190125 \nL 394.423125 297.190125 \nL 394.423125 0 \nL 0 0 \nz\n\" style=\"fill: #ffffff\"/>\n  </g>\n  <g id=\"axes_1\">\n   <g id=\"patch_2\">\n    <path d=\"M 30.103125 273.312 \nL 387.223125 273.312 \nL 387.223125 7.2 \nL 30.103125 7.2 \nz\n\" style=\"fill: #ffffff\"/>\n   </g>\n   <g id=\"matplotlib.axis_1\">\n    <g id=\"xtick_1\">\n     <g id=\"line2d_1\">\n      <defs>\n       <path id=\"me2a4e42291\" d=\"M 0 0 \nL 0 3.5 \n\" style=\"stroke: #000000; stroke-width: 0.8\"/>\n      </defs>\n      <g>\n       <use xlink:href=\"#me2a4e42291\" x=\"46.335852\" y=\"273.312\" style=\"stroke: #000000; stroke-width: 0.8\"/>\n      </g>\n     </g>\n     <g id=\"text_1\">\n      <!-- 2.00 -->\n      <g transform=\"translate(35.20304 287.910437) scale(0.1 -0.1)\">\n       <defs>\n        <path id=\"DejaVuSans-32\" d=\"M 1228 531 \nL 3431 531 \nL 3431 0 \nL 469 0 \nL 469 531 \nQ 828 903 1448 1529 \nQ 2069 2156 2228 2338 \nQ 2531 2678 2651 2914 \nQ 2772 3150 2772 3378 \nQ 2772 3750 2511 3984 \nQ 2250 4219 1831 4219 \nQ 1534 4219 1204 4116 \nQ 875 4013 500 3803 \nL 500 4441 \nQ 881 4594 1212 4672 \nQ 1544 4750 1819 4750 \nQ 2544 4750 2975 4387 \nQ 3406 4025 3406 3419 \nQ 3406 3131 3298 2873 \nQ 3191 2616 2906 2266 \nQ 2828 2175 2409 1742 \nQ 1991 1309 1228 531 \nz\n\" transform=\"scale(0.015625)\"/>\n        <path id=\"DejaVuSans-2e\" d=\"M 684 794 \nL 1344 794 \nL 1344 0 \nL 684 0 \nL 684 794 \nz\n\" transform=\"scale(0.015625)\"/>\n        <path id=\"DejaVuSans-30\" d=\"M 2034 4250 \nQ 1547 4250 1301 3770 \nQ 1056 3291 1056 2328 \nQ 1056 1369 1301 889 \nQ 1547 409 2034 409 \nQ 2525 409 2770 889 \nQ 3016 1369 3016 2328 \nQ 3016 3291 2770 3770 \nQ 2525 4250 2034 4250 \nz\nM 2034 4750 \nQ 2819 4750 3233 4129 \nQ 3647 3509 3647 2328 \nQ 3647 1150 3233 529 \nQ 2819 -91 2034 -91 \nQ 1250 -91 836 529 \nQ 422 1150 422 2328 \nQ 422 3509 836 4129 \nQ 1250 4750 2034 4750 \nz\n\" transform=\"scale(0.015625)\"/>\n       </defs>\n       <use xlink:href=\"#DejaVuSans-32\"/>\n       <use xlink:href=\"#DejaVuSans-2e\" transform=\"translate(63.623047 0)\"/>\n       <use xlink:href=\"#DejaVuSans-30\" transform=\"translate(95.410156 0)\"/>\n       <use xlink:href=\"#DejaVuSans-30\" transform=\"translate(159.033203 0)\"/>\n      </g>\n     </g>\n    </g>\n    <g id=\"xtick_2\">\n     <g id=\"line2d_2\">\n      <g>\n       <use xlink:href=\"#me2a4e42291\" x=\"89.053556\" y=\"273.312\" style=\"stroke: #000000; stroke-width: 0.8\"/>\n      </g>\n     </g>\n     <g id=\"text_2\">\n      <!-- 2.25 -->\n      <g transform=\"translate(77.920743 287.910437) scale(0.1 -0.1)\">\n       <defs>\n        <path id=\"DejaVuSans-35\" d=\"M 691 4666 \nL 3169 4666 \nL 3169 4134 \nL 1269 4134 \nL 1269 2991 \nQ 1406 3038 1543 3061 \nQ 1681 3084 1819 3084 \nQ 2600 3084 3056 2656 \nQ 3513 2228 3513 1497 \nQ 3513 744 3044 326 \nQ 2575 -91 1722 -91 \nQ 1428 -91 1123 -41 \nQ 819 9 494 109 \nL 494 744 \nQ 775 591 1075 516 \nQ 1375 441 1709 441 \nQ 2250 441 2565 725 \nQ 2881 1009 2881 1497 \nQ 2881 1984 2565 2268 \nQ 2250 2553 1709 2553 \nQ 1456 2553 1204 2497 \nQ 953 2441 691 2322 \nL 691 4666 \nz\n\" transform=\"scale(0.015625)\"/>\n       </defs>\n       <use xlink:href=\"#DejaVuSans-32\"/>\n       <use xlink:href=\"#DejaVuSans-2e\" transform=\"translate(63.623047 0)\"/>\n       <use xlink:href=\"#DejaVuSans-32\" transform=\"translate(95.410156 0)\"/>\n       <use xlink:href=\"#DejaVuSans-35\" transform=\"translate(159.033203 0)\"/>\n      </g>\n     </g>\n    </g>\n    <g id=\"xtick_3\">\n     <g id=\"line2d_3\">\n      <g>\n       <use xlink:href=\"#me2a4e42291\" x=\"131.771259\" y=\"273.312\" style=\"stroke: #000000; stroke-width: 0.8\"/>\n      </g>\n     </g>\n     <g id=\"text_3\">\n      <!-- 2.50 -->\n      <g transform=\"translate(120.638446 287.910437) scale(0.1 -0.1)\">\n       <use xlink:href=\"#DejaVuSans-32\"/>\n       <use xlink:href=\"#DejaVuSans-2e\" transform=\"translate(63.623047 0)\"/>\n       <use xlink:href=\"#DejaVuSans-35\" transform=\"translate(95.410156 0)\"/>\n       <use xlink:href=\"#DejaVuSans-30\" transform=\"translate(159.033203 0)\"/>\n      </g>\n     </g>\n    </g>\n    <g id=\"xtick_4\">\n     <g id=\"line2d_4\">\n      <g>\n       <use xlink:href=\"#me2a4e42291\" x=\"174.488962\" y=\"273.312\" style=\"stroke: #000000; stroke-width: 0.8\"/>\n      </g>\n     </g>\n     <g id=\"text_4\">\n      <!-- 2.75 -->\n      <g transform=\"translate(163.35615 287.910437) scale(0.1 -0.1)\">\n       <defs>\n        <path id=\"DejaVuSans-37\" d=\"M 525 4666 \nL 3525 4666 \nL 3525 4397 \nL 1831 0 \nL 1172 0 \nL 2766 4134 \nL 525 4134 \nL 525 4666 \nz\n\" transform=\"scale(0.015625)\"/>\n       </defs>\n       <use xlink:href=\"#DejaVuSans-32\"/>\n       <use xlink:href=\"#DejaVuSans-2e\" transform=\"translate(63.623047 0)\"/>\n       <use xlink:href=\"#DejaVuSans-37\" transform=\"translate(95.410156 0)\"/>\n       <use xlink:href=\"#DejaVuSans-35\" transform=\"translate(159.033203 0)\"/>\n      </g>\n     </g>\n    </g>\n    <g id=\"xtick_5\">\n     <g id=\"line2d_5\">\n      <g>\n       <use xlink:href=\"#me2a4e42291\" x=\"217.206666\" y=\"273.312\" style=\"stroke: #000000; stroke-width: 0.8\"/>\n      </g>\n     </g>\n     <g id=\"text_5\">\n      <!-- 3.00 -->\n      <g transform=\"translate(206.073853 287.910437) scale(0.1 -0.1)\">\n       <defs>\n        <path id=\"DejaVuSans-33\" d=\"M 2597 2516 \nQ 3050 2419 3304 2112 \nQ 3559 1806 3559 1356 \nQ 3559 666 3084 287 \nQ 2609 -91 1734 -91 \nQ 1441 -91 1130 -33 \nQ 819 25 488 141 \nL 488 750 \nQ 750 597 1062 519 \nQ 1375 441 1716 441 \nQ 2309 441 2620 675 \nQ 2931 909 2931 1356 \nQ 2931 1769 2642 2001 \nQ 2353 2234 1838 2234 \nL 1294 2234 \nL 1294 2753 \nL 1863 2753 \nQ 2328 2753 2575 2939 \nQ 2822 3125 2822 3475 \nQ 2822 3834 2567 4026 \nQ 2313 4219 1838 4219 \nQ 1578 4219 1281 4162 \nQ 984 4106 628 3988 \nL 628 4550 \nQ 988 4650 1302 4700 \nQ 1616 4750 1894 4750 \nQ 2613 4750 3031 4423 \nQ 3450 4097 3450 3541 \nQ 3450 3153 3228 2886 \nQ 3006 2619 2597 2516 \nz\n\" transform=\"scale(0.015625)\"/>\n       </defs>\n       <use xlink:href=\"#DejaVuSans-33\"/>\n       <use xlink:href=\"#DejaVuSans-2e\" transform=\"translate(63.623047 0)\"/>\n       <use xlink:href=\"#DejaVuSans-30\" transform=\"translate(95.410156 0)\"/>\n       <use xlink:href=\"#DejaVuSans-30\" transform=\"translate(159.033203 0)\"/>\n      </g>\n     </g>\n    </g>\n    <g id=\"xtick_6\">\n     <g id=\"line2d_6\">\n      <g>\n       <use xlink:href=\"#me2a4e42291\" x=\"259.924369\" y=\"273.312\" style=\"stroke: #000000; stroke-width: 0.8\"/>\n      </g>\n     </g>\n     <g id=\"text_6\">\n      <!-- 3.25 -->\n      <g transform=\"translate(248.791557 287.910437) scale(0.1 -0.1)\">\n       <use xlink:href=\"#DejaVuSans-33\"/>\n       <use xlink:href=\"#DejaVuSans-2e\" transform=\"translate(63.623047 0)\"/>\n       <use xlink:href=\"#DejaVuSans-32\" transform=\"translate(95.410156 0)\"/>\n       <use xlink:href=\"#DejaVuSans-35\" transform=\"translate(159.033203 0)\"/>\n      </g>\n     </g>\n    </g>\n    <g id=\"xtick_7\">\n     <g id=\"line2d_7\">\n      <g>\n       <use xlink:href=\"#me2a4e42291\" x=\"302.642072\" y=\"273.312\" style=\"stroke: #000000; stroke-width: 0.8\"/>\n      </g>\n     </g>\n     <g id=\"text_7\">\n      <!-- 3.50 -->\n      <g transform=\"translate(291.50926 287.910437) scale(0.1 -0.1)\">\n       <use xlink:href=\"#DejaVuSans-33\"/>\n       <use xlink:href=\"#DejaVuSans-2e\" transform=\"translate(63.623047 0)\"/>\n       <use xlink:href=\"#DejaVuSans-35\" transform=\"translate(95.410156 0)\"/>\n       <use xlink:href=\"#DejaVuSans-30\" transform=\"translate(159.033203 0)\"/>\n      </g>\n     </g>\n    </g>\n    <g id=\"xtick_8\">\n     <g id=\"line2d_8\">\n      <g>\n       <use xlink:href=\"#me2a4e42291\" x=\"345.359776\" y=\"273.312\" style=\"stroke: #000000; stroke-width: 0.8\"/>\n      </g>\n     </g>\n     <g id=\"text_8\">\n      <!-- 3.75 -->\n      <g transform=\"translate(334.226963 287.910437) scale(0.1 -0.1)\">\n       <use xlink:href=\"#DejaVuSans-33\"/>\n       <use xlink:href=\"#DejaVuSans-2e\" transform=\"translate(63.623047 0)\"/>\n       <use xlink:href=\"#DejaVuSans-37\" transform=\"translate(95.410156 0)\"/>\n       <use xlink:href=\"#DejaVuSans-35\" transform=\"translate(159.033203 0)\"/>\n      </g>\n     </g>\n    </g>\n   </g>\n   <g id=\"matplotlib.axis_2\">\n    <g id=\"ytick_1\">\n     <g id=\"line2d_9\">\n      <defs>\n       <path id=\"m584a45921c\" d=\"M 0 0 \nL -3.5 0 \n\" style=\"stroke: #000000; stroke-width: 0.8\"/>\n      </defs>\n      <g>\n       <use xlink:href=\"#m584a45921c\" x=\"30.103125\" y=\"261.216\" style=\"stroke: #000000; stroke-width: 0.8\"/>\n      </g>\n     </g>\n     <g id=\"text_9\">\n      <!-- 1.0 -->\n      <g transform=\"translate(7.2 265.015219) scale(0.1 -0.1)\">\n       <defs>\n        <path id=\"DejaVuSans-31\" d=\"M 794 531 \nL 1825 531 \nL 1825 4091 \nL 703 3866 \nL 703 4441 \nL 1819 4666 \nL 2450 4666 \nL 2450 531 \nL 3481 531 \nL 3481 0 \nL 794 0 \nL 794 531 \nz\n\" transform=\"scale(0.015625)\"/>\n       </defs>\n       <use xlink:href=\"#DejaVuSans-31\"/>\n       <use xlink:href=\"#DejaVuSans-2e\" transform=\"translate(63.623047 0)\"/>\n       <use xlink:href=\"#DejaVuSans-30\" transform=\"translate(95.410156 0)\"/>\n      </g>\n     </g>\n    </g>\n    <g id=\"ytick_2\">\n     <g id=\"line2d_10\">\n      <g>\n       <use xlink:href=\"#m584a45921c\" x=\"30.103125\" y=\"230.200615\" style=\"stroke: #000000; stroke-width: 0.8\"/>\n      </g>\n     </g>\n     <g id=\"text_10\">\n      <!-- 1.5 -->\n      <g transform=\"translate(7.2 233.999834) scale(0.1 -0.1)\">\n       <use xlink:href=\"#DejaVuSans-31\"/>\n       <use xlink:href=\"#DejaVuSans-2e\" transform=\"translate(63.623047 0)\"/>\n       <use xlink:href=\"#DejaVuSans-35\" transform=\"translate(95.410156 0)\"/>\n      </g>\n     </g>\n    </g>\n    <g id=\"ytick_3\">\n     <g id=\"line2d_11\">\n      <g>\n       <use xlink:href=\"#m584a45921c\" x=\"30.103125\" y=\"199.185231\" style=\"stroke: #000000; stroke-width: 0.8\"/>\n      </g>\n     </g>\n     <g id=\"text_11\">\n      <!-- 2.0 -->\n      <g transform=\"translate(7.2 202.98445) scale(0.1 -0.1)\">\n       <use xlink:href=\"#DejaVuSans-32\"/>\n       <use xlink:href=\"#DejaVuSans-2e\" transform=\"translate(63.623047 0)\"/>\n       <use xlink:href=\"#DejaVuSans-30\" transform=\"translate(95.410156 0)\"/>\n      </g>\n     </g>\n    </g>\n    <g id=\"ytick_4\">\n     <g id=\"line2d_12\">\n      <g>\n       <use xlink:href=\"#m584a45921c\" x=\"30.103125\" y=\"168.169846\" style=\"stroke: #000000; stroke-width: 0.8\"/>\n      </g>\n     </g>\n     <g id=\"text_12\">\n      <!-- 2.5 -->\n      <g transform=\"translate(7.2 171.969065) scale(0.1 -0.1)\">\n       <use xlink:href=\"#DejaVuSans-32\"/>\n       <use xlink:href=\"#DejaVuSans-2e\" transform=\"translate(63.623047 0)\"/>\n       <use xlink:href=\"#DejaVuSans-35\" transform=\"translate(95.410156 0)\"/>\n      </g>\n     </g>\n    </g>\n    <g id=\"ytick_5\">\n     <g id=\"line2d_13\">\n      <g>\n       <use xlink:href=\"#m584a45921c\" x=\"30.103125\" y=\"137.154462\" style=\"stroke: #000000; stroke-width: 0.8\"/>\n      </g>\n     </g>\n     <g id=\"text_13\">\n      <!-- 3.0 -->\n      <g transform=\"translate(7.2 140.95368) scale(0.1 -0.1)\">\n       <use xlink:href=\"#DejaVuSans-33\"/>\n       <use xlink:href=\"#DejaVuSans-2e\" transform=\"translate(63.623047 0)\"/>\n       <use xlink:href=\"#DejaVuSans-30\" transform=\"translate(95.410156 0)\"/>\n      </g>\n     </g>\n    </g>\n    <g id=\"ytick_6\">\n     <g id=\"line2d_14\">\n      <g>\n       <use xlink:href=\"#m584a45921c\" x=\"30.103125\" y=\"106.139077\" style=\"stroke: #000000; stroke-width: 0.8\"/>\n      </g>\n     </g>\n     <g id=\"text_14\">\n      <!-- 3.5 -->\n      <g transform=\"translate(7.2 109.938296) scale(0.1 -0.1)\">\n       <use xlink:href=\"#DejaVuSans-33\"/>\n       <use xlink:href=\"#DejaVuSans-2e\" transform=\"translate(63.623047 0)\"/>\n       <use xlink:href=\"#DejaVuSans-35\" transform=\"translate(95.410156 0)\"/>\n      </g>\n     </g>\n    </g>\n    <g id=\"ytick_7\">\n     <g id=\"line2d_15\">\n      <g>\n       <use xlink:href=\"#m584a45921c\" x=\"30.103125\" y=\"75.123692\" style=\"stroke: #000000; stroke-width: 0.8\"/>\n      </g>\n     </g>\n     <g id=\"text_15\">\n      <!-- 4.0 -->\n      <g transform=\"translate(7.2 78.922911) scale(0.1 -0.1)\">\n       <defs>\n        <path id=\"DejaVuSans-34\" d=\"M 2419 4116 \nL 825 1625 \nL 2419 1625 \nL 2419 4116 \nz\nM 2253 4666 \nL 3047 4666 \nL 3047 1625 \nL 3713 1625 \nL 3713 1100 \nL 3047 1100 \nL 3047 0 \nL 2419 0 \nL 2419 1100 \nL 313 1100 \nL 313 1709 \nL 2253 4666 \nz\n\" transform=\"scale(0.015625)\"/>\n       </defs>\n       <use xlink:href=\"#DejaVuSans-34\"/>\n       <use xlink:href=\"#DejaVuSans-2e\" transform=\"translate(63.623047 0)\"/>\n       <use xlink:href=\"#DejaVuSans-30\" transform=\"translate(95.410156 0)\"/>\n      </g>\n     </g>\n    </g>\n    <g id=\"ytick_8\">\n     <g id=\"line2d_16\">\n      <g>\n       <use xlink:href=\"#m584a45921c\" x=\"30.103125\" y=\"44.108308\" style=\"stroke: #000000; stroke-width: 0.8\"/>\n      </g>\n     </g>\n     <g id=\"text_16\">\n      <!-- 4.5 -->\n      <g transform=\"translate(7.2 47.907526) scale(0.1 -0.1)\">\n       <use xlink:href=\"#DejaVuSans-34\"/>\n       <use xlink:href=\"#DejaVuSans-2e\" transform=\"translate(63.623047 0)\"/>\n       <use xlink:href=\"#DejaVuSans-35\" transform=\"translate(95.410156 0)\"/>\n      </g>\n     </g>\n    </g>\n    <g id=\"ytick_9\">\n     <g id=\"line2d_17\">\n      <g>\n       <use xlink:href=\"#m584a45921c\" x=\"30.103125\" y=\"13.092923\" style=\"stroke: #000000; stroke-width: 0.8\"/>\n      </g>\n     </g>\n     <g id=\"text_17\">\n      <!-- 5.0 -->\n      <g transform=\"translate(7.2 16.892142) scale(0.1 -0.1)\">\n       <use xlink:href=\"#DejaVuSans-35\"/>\n       <use xlink:href=\"#DejaVuSans-2e\" transform=\"translate(63.623047 0)\"/>\n       <use xlink:href=\"#DejaVuSans-30\" transform=\"translate(95.410156 0)\"/>\n      </g>\n     </g>\n    </g>\n   </g>\n   <g id=\"line2d_18\">\n    <path d=\"M 46.335852 261.216 \nL 63.422934 261.216 \nL 80.510015 261.216 \nL 97.597096 261.216 \nL 114.684178 261.216 \nL 131.771259 261.216 \nL 148.85834 261.216 \nL 165.945422 261.216 \nL 183.032503 261.216 \nL 200.119584 261.216 \nL 217.206666 261.216 \nL 234.293747 68.920615 \nL 251.380828 62.717538 \nL 268.46791 56.514462 \nL 285.554991 50.311385 \nL 302.642072 44.108308 \nL 319.729154 37.905231 \nL 336.816235 31.702154 \nL 353.903316 25.499077 \nL 370.990398 19.296 \n\" clip-path=\"url(#p09e0353479)\" style=\"fill: none; stroke: #1f77b4; stroke-width: 1.5; stroke-linecap: square\"/>\n   </g>\n   <g id=\"patch_3\">\n    <path d=\"M 30.103125 273.312 \nL 30.103125 7.2 \n\" style=\"fill: none; stroke: #000000; stroke-width: 0.8; stroke-linejoin: miter; stroke-linecap: square\"/>\n   </g>\n   <g id=\"patch_4\">\n    <path d=\"M 387.223125 273.312 \nL 387.223125 7.2 \n\" style=\"fill: none; stroke: #000000; stroke-width: 0.8; stroke-linejoin: miter; stroke-linecap: square\"/>\n   </g>\n   <g id=\"patch_5\">\n    <path d=\"M 30.103125 273.312 \nL 387.223125 273.312 \n\" style=\"fill: none; stroke: #000000; stroke-width: 0.8; stroke-linejoin: miter; stroke-linecap: square\"/>\n   </g>\n   <g id=\"patch_6\">\n    <path d=\"M 30.103125 7.2 \nL 387.223125 7.2 \n\" style=\"fill: none; stroke: #000000; stroke-width: 0.8; stroke-linejoin: miter; stroke-linecap: square\"/>\n   </g>\n  </g>\n </g>\n <defs>\n  <clipPath id=\"p09e0353479\">\n   <rect x=\"30.103125\" y=\"7.2\" width=\"357.12\" height=\"266.112\"/>\n  </clipPath>\n </defs>\n</svg>\n",
            "image/png": "[encoded data removed]"
          },
          "metadata": {}
        }
      ],
      "metadata": {}
    },
    {
      "cell_type": "code",
      "execution_count": 39,
      "source": [
        "p18"
      ],
      "outputs": [
        {
          "output_type": "execute_result",
          "data": {
            "text/plain": [
              "2.5"
            ]
          },
          "metadata": {},
          "execution_count": 39
        }
      ],
      "metadata": {}
    },
    {
      "cell_type": "markdown",
      "source": [
        "### Problem 19\n",
        "\n",
        "Set `p19` to an estimate of the 90th percentile of the normal distribution with parameters $\\mu = 5$ and $\\sigma = 2$.\n",
        "Try to do this by sampling the distribution many times (say 10000), and computing the quantile from the sample data.\n",
        "This problem will allow inexact, but close estimates, so don't worry about sampling variation.\n",
        "\n",
        "You can sample that normal distribution once with `np.random.normal(loc=5, scale=2)`.\n",
        "See the documentation for [`np.random.normal`](https://numpy.org/doc/stable/reference/random/generated/numpy.random.normal.html) for more useful information."
      ],
      "metadata": {
        "id": "pQ5isDQqIcRG"
      }
    },
    {
      "cell_type": "code",
      "execution_count": 44,
      "source": [
        "# YOUR CHANGES HERE\n",
        "y = []\n",
        "for i in range(10000):\n",
        "    y.append(np.random.normal(loc=5, scale=2))\n",
        "y.sort()\n",
        "\n",
        "plt.plot(y)"
      ],
      "outputs": [
        {
          "output_type": "display_data",
          "data": {
            "text/plain": [
              "<Figure size 640x480 with 1 Axes>"
            ],
            "image/svg+xml": "<?xml version=\"1.0\" encoding=\"utf-8\" standalone=\"no\"?>\n<!DOCTYPE svg PUBLIC \"-//W3C//DTD SVG 1.1//EN\"\n  \"http://www.w3.org/Graphics/SVG/1.1/DTD/svg11.dtd\">\n<svg xmlns:xlink=\"http://www.w3.org/1999/xlink\" width=\"393.262187pt\" height=\"297.190125pt\" viewBox=\"0 0 393.262187 297.190125\" xmlns=\"http://www.w3.org/2000/svg\" version=\"1.1\">\n <metadata>\n  <rdf:RDF xmlns:dc=\"http://purl.org/dc/elements/1.1/\" xmlns:cc=\"http://creativecommons.org/ns#\" xmlns:rdf=\"http://www.w3.org/1999/02/22-rdf-syntax-ns#\">\n   <cc:Work>\n    <dc:type rdf:resource=\"http://purl.org/dc/dcmitype/StillImage\"/>\n    <dc:date>2025-10-01T18:51:58.843015</dc:date>\n    <dc:format>image/svg+xml</dc:format>\n    <dc:creator>\n     <cc:Agent>\n      <dc:title>Matplotlib v3.10.0, https://matplotlib.org/</dc:title>\n     </cc:Agent>\n    </dc:creator>\n   </cc:Work>\n  </rdf:RDF>\n </metadata>\n <defs>\n  <style type=\"text/css\">*{stroke-linejoin: round; stroke-linecap: butt}</style>\n </defs>\n <g id=\"figure_1\">\n  <g id=\"patch_1\">\n   <path d=\"M 0 297.190125 \nL 393.262187 297.190125 \nL 393.262187 0 \nL 0 0 \nz\n\" style=\"fill: #ffffff\"/>\n  </g>\n  <g id=\"axes_1\">\n   <g id=\"patch_2\">\n    <path d=\"M 28.942188 273.312 \nL 386.062188 273.312 \nL 386.062188 7.2 \nL 28.942188 7.2 \nz\n\" style=\"fill: #ffffff\"/>\n   </g>\n   <g id=\"matplotlib.axis_1\">\n    <g id=\"xtick_1\">\n     <g id=\"line2d_1\">\n      <defs>\n       <path id=\"m769c588de0\" d=\"M 0 0 \nL 0 3.5 \n\" style=\"stroke: #000000; stroke-width: 0.8\"/>\n      </defs>\n      <g>\n       <use xlink:href=\"#m769c588de0\" x=\"45.174915\" y=\"273.312\" style=\"stroke: #000000; stroke-width: 0.8\"/>\n      </g>\n     </g>\n     <g id=\"text_1\">\n      <!-- 0 -->\n      <g transform=\"translate(41.993665 287.910437) scale(0.1 -0.1)\">\n       <defs>\n        <path id=\"DejaVuSans-30\" d=\"M 2034 4250 \nQ 1547 4250 1301 3770 \nQ 1056 3291 1056 2328 \nQ 1056 1369 1301 889 \nQ 1547 409 2034 409 \nQ 2525 409 2770 889 \nQ 3016 1369 3016 2328 \nQ 3016 3291 2770 3770 \nQ 2525 4250 2034 4250 \nz\nM 2034 4750 \nQ 2819 4750 3233 4129 \nQ 3647 3509 3647 2328 \nQ 3647 1150 3233 529 \nQ 2819 -91 2034 -91 \nQ 1250 -91 836 529 \nQ 422 1150 422 2328 \nQ 422 3509 836 4129 \nQ 1250 4750 2034 4750 \nz\n\" transform=\"scale(0.015625)\"/>\n       </defs>\n       <use xlink:href=\"#DejaVuSans-30\"/>\n      </g>\n     </g>\n    </g>\n    <g id=\"xtick_2\">\n     <g id=\"line2d_2\">\n      <g>\n       <use xlink:href=\"#m769c588de0\" x=\"110.112318\" y=\"273.312\" style=\"stroke: #000000; stroke-width: 0.8\"/>\n      </g>\n     </g>\n     <g id=\"text_2\">\n      <!-- 2000 -->\n      <g transform=\"translate(97.387318 287.910437) scale(0.1 -0.1)\">\n       <defs>\n        <path id=\"DejaVuSans-32\" d=\"M 1228 531 \nL 3431 531 \nL 3431 0 \nL 469 0 \nL 469 531 \nQ 828 903 1448 1529 \nQ 2069 2156 2228 2338 \nQ 2531 2678 2651 2914 \nQ 2772 3150 2772 3378 \nQ 2772 3750 2511 3984 \nQ 2250 4219 1831 4219 \nQ 1534 4219 1204 4116 \nQ 875 4013 500 3803 \nL 500 4441 \nQ 881 4594 1212 4672 \nQ 1544 4750 1819 4750 \nQ 2544 4750 2975 4387 \nQ 3406 4025 3406 3419 \nQ 3406 3131 3298 2873 \nQ 3191 2616 2906 2266 \nQ 2828 2175 2409 1742 \nQ 1991 1309 1228 531 \nz\n\" transform=\"scale(0.015625)\"/>\n       </defs>\n       <use xlink:href=\"#DejaVuSans-32\"/>\n       <use xlink:href=\"#DejaVuSans-30\" transform=\"translate(63.623047 0)\"/>\n       <use xlink:href=\"#DejaVuSans-30\" transform=\"translate(127.246094 0)\"/>\n       <use xlink:href=\"#DejaVuSans-30\" transform=\"translate(190.869141 0)\"/>\n      </g>\n     </g>\n    </g>\n    <g id=\"xtick_3\">\n     <g id=\"line2d_3\">\n      <g>\n       <use xlink:href=\"#m769c588de0\" x=\"175.04972\" y=\"273.312\" style=\"stroke: #000000; stroke-width: 0.8\"/>\n      </g>\n     </g>\n     <g id=\"text_3\">\n      <!-- 4000 -->\n      <g transform=\"translate(162.32472 287.910437) scale(0.1 -0.1)\">\n       <defs>\n        <path id=\"DejaVuSans-34\" d=\"M 2419 4116 \nL 825 1625 \nL 2419 1625 \nL 2419 4116 \nz\nM 2253 4666 \nL 3047 4666 \nL 3047 1625 \nL 3713 1625 \nL 3713 1100 \nL 3047 1100 \nL 3047 0 \nL 2419 0 \nL 2419 1100 \nL 313 1100 \nL 313 1709 \nL 2253 4666 \nz\n\" transform=\"scale(0.015625)\"/>\n       </defs>\n       <use xlink:href=\"#DejaVuSans-34\"/>\n       <use xlink:href=\"#DejaVuSans-30\" transform=\"translate(63.623047 0)\"/>\n       <use xlink:href=\"#DejaVuSans-30\" transform=\"translate(127.246094 0)\"/>\n       <use xlink:href=\"#DejaVuSans-30\" transform=\"translate(190.869141 0)\"/>\n      </g>\n     </g>\n    </g>\n    <g id=\"xtick_4\">\n     <g id=\"line2d_4\">\n      <g>\n       <use xlink:href=\"#m769c588de0\" x=\"239.987123\" y=\"273.312\" style=\"stroke: #000000; stroke-width: 0.8\"/>\n      </g>\n     </g>\n     <g id=\"text_4\">\n      <!-- 6000 -->\n      <g transform=\"translate(227.262123 287.910437) scale(0.1 -0.1)\">\n       <defs>\n        <path id=\"DejaVuSans-36\" d=\"M 2113 2584 \nQ 1688 2584 1439 2293 \nQ 1191 2003 1191 1497 \nQ 1191 994 1439 701 \nQ 1688 409 2113 409 \nQ 2538 409 2786 701 \nQ 3034 994 3034 1497 \nQ 3034 2003 2786 2293 \nQ 2538 2584 2113 2584 \nz\nM 3366 4563 \nL 3366 3988 \nQ 3128 4100 2886 4159 \nQ 2644 4219 2406 4219 \nQ 1781 4219 1451 3797 \nQ 1122 3375 1075 2522 \nQ 1259 2794 1537 2939 \nQ 1816 3084 2150 3084 \nQ 2853 3084 3261 2657 \nQ 3669 2231 3669 1497 \nQ 3669 778 3244 343 \nQ 2819 -91 2113 -91 \nQ 1303 -91 875 529 \nQ 447 1150 447 2328 \nQ 447 3434 972 4092 \nQ 1497 4750 2381 4750 \nQ 2619 4750 2861 4703 \nQ 3103 4656 3366 4563 \nz\n\" transform=\"scale(0.015625)\"/>\n       </defs>\n       <use xlink:href=\"#DejaVuSans-36\"/>\n       <use xlink:href=\"#DejaVuSans-30\" transform=\"translate(63.623047 0)\"/>\n       <use xlink:href=\"#DejaVuSans-30\" transform=\"translate(127.246094 0)\"/>\n       <use xlink:href=\"#DejaVuSans-30\" transform=\"translate(190.869141 0)\"/>\n      </g>\n     </g>\n    </g>\n    <g id=\"xtick_5\">\n     <g id=\"line2d_5\">\n      <g>\n       <use xlink:href=\"#m769c588de0\" x=\"304.924526\" y=\"273.312\" style=\"stroke: #000000; stroke-width: 0.8\"/>\n      </g>\n     </g>\n     <g id=\"text_5\">\n      <!-- 8000 -->\n      <g transform=\"translate(292.199526 287.910437) scale(0.1 -0.1)\">\n       <defs>\n        <path id=\"DejaVuSans-38\" d=\"M 2034 2216 \nQ 1584 2216 1326 1975 \nQ 1069 1734 1069 1313 \nQ 1069 891 1326 650 \nQ 1584 409 2034 409 \nQ 2484 409 2743 651 \nQ 3003 894 3003 1313 \nQ 3003 1734 2745 1975 \nQ 2488 2216 2034 2216 \nz\nM 1403 2484 \nQ 997 2584 770 2862 \nQ 544 3141 544 3541 \nQ 544 4100 942 4425 \nQ 1341 4750 2034 4750 \nQ 2731 4750 3128 4425 \nQ 3525 4100 3525 3541 \nQ 3525 3141 3298 2862 \nQ 3072 2584 2669 2484 \nQ 3125 2378 3379 2068 \nQ 3634 1759 3634 1313 \nQ 3634 634 3220 271 \nQ 2806 -91 2034 -91 \nQ 1263 -91 848 271 \nQ 434 634 434 1313 \nQ 434 1759 690 2068 \nQ 947 2378 1403 2484 \nz\nM 1172 3481 \nQ 1172 3119 1398 2916 \nQ 1625 2713 2034 2713 \nQ 2441 2713 2670 2916 \nQ 2900 3119 2900 3481 \nQ 2900 3844 2670 4047 \nQ 2441 4250 2034 4250 \nQ 1625 4250 1398 4047 \nQ 1172 3844 1172 3481 \nz\n\" transform=\"scale(0.015625)\"/>\n       </defs>\n       <use xlink:href=\"#DejaVuSans-38\"/>\n       <use xlink:href=\"#DejaVuSans-30\" transform=\"translate(63.623047 0)\"/>\n       <use xlink:href=\"#DejaVuSans-30\" transform=\"translate(127.246094 0)\"/>\n       <use xlink:href=\"#DejaVuSans-30\" transform=\"translate(190.869141 0)\"/>\n      </g>\n     </g>\n    </g>\n    <g id=\"xtick_6\">\n     <g id=\"line2d_6\">\n      <g>\n       <use xlink:href=\"#m769c588de0\" x=\"369.861929\" y=\"273.312\" style=\"stroke: #000000; stroke-width: 0.8\"/>\n      </g>\n     </g>\n     <g id=\"text_6\">\n      <!-- 10000 -->\n      <g transform=\"translate(353.955679 287.910437) scale(0.1 -0.1)\">\n       <defs>\n        <path id=\"DejaVuSans-31\" d=\"M 794 531 \nL 1825 531 \nL 1825 4091 \nL 703 3866 \nL 703 4441 \nL 1819 4666 \nL 2450 4666 \nL 2450 531 \nL 3481 531 \nL 3481 0 \nL 794 0 \nL 794 531 \nz\n\" transform=\"scale(0.015625)\"/>\n       </defs>\n       <use xlink:href=\"#DejaVuSans-31\"/>\n       <use xlink:href=\"#DejaVuSans-30\" transform=\"translate(63.623047 0)\"/>\n       <use xlink:href=\"#DejaVuSans-30\" transform=\"translate(127.246094 0)\"/>\n       <use xlink:href=\"#DejaVuSans-30\" transform=\"translate(190.869141 0)\"/>\n       <use xlink:href=\"#DejaVuSans-30\" transform=\"translate(254.492188 0)\"/>\n      </g>\n     </g>\n    </g>\n   </g>\n   <g id=\"matplotlib.axis_2\">\n    <g id=\"ytick_1\">\n     <g id=\"line2d_7\">\n      <defs>\n       <path id=\"m8dad2ecd51\" d=\"M 0 0 \nL -3.5 0 \n\" style=\"stroke: #000000; stroke-width: 0.8\"/>\n      </defs>\n      <g>\n       <use xlink:href=\"#m8dad2ecd51\" x=\"28.942188\" y=\"260.205588\" style=\"stroke: #000000; stroke-width: 0.8\"/>\n      </g>\n     </g>\n     <g id=\"text_7\">\n      <!-- −2 -->\n      <g transform=\"translate(7.2 264.004806) scale(0.1 -0.1)\">\n       <defs>\n        <path id=\"DejaVuSans-2212\" d=\"M 678 2272 \nL 4684 2272 \nL 4684 1741 \nL 678 1741 \nL 678 2272 \nz\n\" transform=\"scale(0.015625)\"/>\n       </defs>\n       <use xlink:href=\"#DejaVuSans-2212\"/>\n       <use xlink:href=\"#DejaVuSans-32\" transform=\"translate(83.789062 0)\"/>\n      </g>\n     </g>\n    </g>\n    <g id=\"ytick_2\">\n     <g id=\"line2d_8\">\n      <g>\n       <use xlink:href=\"#m8dad2ecd51\" x=\"28.942188\" y=\"226.525427\" style=\"stroke: #000000; stroke-width: 0.8\"/>\n      </g>\n     </g>\n     <g id=\"text_8\">\n      <!-- 0 -->\n      <g transform=\"translate(15.579688 230.324646) scale(0.1 -0.1)\">\n       <use xlink:href=\"#DejaVuSans-30\"/>\n      </g>\n     </g>\n    </g>\n    <g id=\"ytick_3\">\n     <g id=\"line2d_9\">\n      <g>\n       <use xlink:href=\"#m8dad2ecd51\" x=\"28.942188\" y=\"192.845267\" style=\"stroke: #000000; stroke-width: 0.8\"/>\n      </g>\n     </g>\n     <g id=\"text_9\">\n      <!-- 2 -->\n      <g transform=\"translate(15.579688 196.644486) scale(0.1 -0.1)\">\n       <use xlink:href=\"#DejaVuSans-32\"/>\n      </g>\n     </g>\n    </g>\n    <g id=\"ytick_4\">\n     <g id=\"line2d_10\">\n      <g>\n       <use xlink:href=\"#m8dad2ecd51\" x=\"28.942188\" y=\"159.165107\" style=\"stroke: #000000; stroke-width: 0.8\"/>\n      </g>\n     </g>\n     <g id=\"text_10\">\n      <!-- 4 -->\n      <g transform=\"translate(15.579688 162.964326) scale(0.1 -0.1)\">\n       <use xlink:href=\"#DejaVuSans-34\"/>\n      </g>\n     </g>\n    </g>\n    <g id=\"ytick_5\">\n     <g id=\"line2d_11\">\n      <g>\n       <use xlink:href=\"#m8dad2ecd51\" x=\"28.942188\" y=\"125.484947\" style=\"stroke: #000000; stroke-width: 0.8\"/>\n      </g>\n     </g>\n     <g id=\"text_11\">\n      <!-- 6 -->\n      <g transform=\"translate(15.579688 129.284166) scale(0.1 -0.1)\">\n       <use xlink:href=\"#DejaVuSans-36\"/>\n      </g>\n     </g>\n    </g>\n    <g id=\"ytick_6\">\n     <g id=\"line2d_12\">\n      <g>\n       <use xlink:href=\"#m8dad2ecd51\" x=\"28.942188\" y=\"91.804787\" style=\"stroke: #000000; stroke-width: 0.8\"/>\n      </g>\n     </g>\n     <g id=\"text_12\">\n      <!-- 8 -->\n      <g transform=\"translate(15.579688 95.604006) scale(0.1 -0.1)\">\n       <use xlink:href=\"#DejaVuSans-38\"/>\n      </g>\n     </g>\n    </g>\n    <g id=\"ytick_7\">\n     <g id=\"line2d_13\">\n      <g>\n       <use xlink:href=\"#m8dad2ecd51\" x=\"28.942188\" y=\"58.124627\" style=\"stroke: #000000; stroke-width: 0.8\"/>\n      </g>\n     </g>\n     <g id=\"text_13\">\n      <!-- 10 -->\n      <g transform=\"translate(9.217188 61.923846) scale(0.1 -0.1)\">\n       <use xlink:href=\"#DejaVuSans-31\"/>\n       <use xlink:href=\"#DejaVuSans-30\" transform=\"translate(63.623047 0)\"/>\n      </g>\n     </g>\n    </g>\n    <g id=\"ytick_8\">\n     <g id=\"line2d_14\">\n      <g>\n       <use xlink:href=\"#m8dad2ecd51\" x=\"28.942188\" y=\"24.444467\" style=\"stroke: #000000; stroke-width: 0.8\"/>\n      </g>\n     </g>\n     <g id=\"text_14\">\n      <!-- 12 -->\n      <g transform=\"translate(9.217188 28.243686) scale(0.1 -0.1)\">\n       <use xlink:href=\"#DejaVuSans-31\"/>\n       <use xlink:href=\"#DejaVuSans-32\" transform=\"translate(63.623047 0)\"/>\n      </g>\n     </g>\n    </g>\n   </g>\n   <g id=\"line2d_15\">\n    <path d=\"M 45.174915 261.216 \nL 45.207383 261.095053 \nL 45.402196 249.907955 \nL 45.921695 238.492799 \nL 45.986632 237.728117 \nL 46.181445 234.853309 \nL 46.343788 233.594287 \nL 46.408725 233.461204 \nL 46.636006 230.818684 \nL 46.668475 230.790317 \nL 46.928225 228.105295 \nL 47.350318 225.128615 \nL 47.480193 224.82245 \nL 48.55166 219.945187 \nL 48.746472 219.40881 \nL 48.908815 219.012882 \nL 49.03869 218.601769 \nL 49.29844 217.700813 \nL 49.363377 217.532672 \nL 49.558189 216.763234 \nL 49.947814 215.701647 \nL 50.110157 215.60933 \nL 50.30497 215.140452 \nL 50.499782 214.824949 \nL 50.662125 214.620316 \nL 50.694594 214.618023 \nL 50.889406 213.653471 \nL 51.116687 213.498242 \nL 51.53878 212.698472 \nL 51.733592 212.012771 \nL 51.79853 211.894589 \nL 52.382966 210.240391 \nL 52.480373 210.190162 \nL 52.610247 209.632395 \nL 52.837528 209.405738 \nL 52.967403 209.309485 \nL 53.357028 208.636732 \nL 53.389496 208.610095 \nL 53.55184 208.235282 \nL 54.201214 206.911 \nL 54.331089 206.80634 \nL 54.590838 206.44922 \nL 54.753182 206.319827 \nL 56.603898 203.94747 \nL 56.766241 203.636977 \nL 56.993522 203.312138 \nL 57.123397 203.091114 \nL 57.318209 202.888828 \nL 57.448084 202.780758 \nL 57.675365 202.442102 \nL 57.80524 202.291662 \nL 57.967583 202.09645 \nL 58.064989 201.988318 \nL 58.29227 201.431388 \nL 58.876707 200.911118 \nL 59.03905 200.684153 \nL 59.266331 200.488503 \nL 59.428675 200.2387 \nL 61.311859 198.344698 \nL 61.474203 198.258853 \nL 61.636546 198.109156 \nL 61.863827 197.985395 \nL 62.318389 197.731119 \nL 62.480733 197.533777 \nL 62.772951 197.401094 \nL 62.935294 197.161817 \nL 63.097638 197.02064 \nL 63.422325 196.819481 \nL 63.584668 196.71776 \nL 63.779481 196.537056 \nL 64.03923 196.232791 \nL 64.234043 196.028386 \nL 64.623667 195.754451 \nL 64.78601 195.631608 \nL 64.980823 195.483372 \nL 65.175635 195.116942 \nL 65.760071 194.766314 \nL 66.084758 194.659256 \nL 66.247102 194.402819 \nL 66.441914 194.273661 \nL 68.487442 192.973247 \nL 68.747192 192.805561 \nL 68.942004 192.665988 \nL 69.104348 192.585794 \nL 69.396566 192.391749 \nL 69.526441 192.225716 \nL 69.753722 192.114717 \nL 69.948534 191.88077 \nL 70.370627 191.711124 \nL 70.468033 191.6565 \nL 70.597908 191.533884 \nL 71.020001 191.367586 \nL 71.507032 191.065414 \nL 71.636906 190.982569 \nL 71.896656 190.731028 \nL 72.091468 190.62225 \nL 73.065529 189.904888 \nL 73.29281 189.72516 \nL 74.55909 188.74536 \nL 74.721433 188.57782 \nL 75.013651 188.33632 \nL 75.175995 188.191508 \nL 75.435744 188.006688 \nL 75.663025 187.752026 \nL 76.279931 187.457139 \nL 76.507212 187.231468 \nL 76.702024 187.089866 \nL 76.961773 186.972366 \nL 78.520271 185.792083 \nL 78.942364 185.578613 \nL 79.461863 185.267988 \nL 79.55927 185.22975 \nL 79.721613 185.112883 \nL 80.0463 184.987045 \nL 80.630737 184.658541 \nL 80.825549 184.57302 \nL 81.409986 184.302423 \nL 81.572329 184.220493 \nL 82.254172 183.819007 \nL 82.448984 183.648003 \nL 82.643796 183.519424 \nL 82.838608 183.333342 \nL 83.455514 183.061161 \nL 83.682795 182.897245 \nL 84.072419 182.722221 \nL 84.884137 182.234369 \nL 85.04648 182.091074 \nL 85.403636 181.871677 \nL 85.955604 181.658234 \nL 86.345228 181.502941 \nL 87.319289 180.952014 \nL 87.611508 180.825777 \nL 87.871257 180.71423 \nL 88.098538 180.608621 \nL 88.423225 180.504407 \nL 89.364817 180.023793 \nL 89.916785 179.85473 \nL 90.209004 179.722155 \nL 91.085659 179.37452 \nL 91.312939 179.250781 \nL 91.605158 179.156702 \nL 91.79997 179.031828 \nL 95.696214 177.271761 \nL 95.826089 177.200139 \nL 96.085839 177.0482 \nL 98.196304 176.218431 \nL 98.358648 176.071498 \nL 102.384767 174.236236 \nL 102.54711 174.136453 \nL 102.904266 174.001244 \nL 103.164016 173.937247 \nL 103.780921 173.773447 \nL 104.008202 173.702209 \nL 104.787451 173.421546 \nL 105.599168 173.08831 \nL 106.151136 172.943012 \nL 107.352478 172.534313 \nL 108.196664 172.214834 \nL 108.359008 172.10136 \nL 109.008382 171.840217 \nL 109.592818 171.663359 \nL 110.30713 171.318865 \nL 112.450064 170.676816 \nL 112.872157 170.54429 \nL 113.261782 170.426216 \nL 113.489063 170.344424 \nL 113.716343 170.253299 \nL 114.268311 169.940707 \nL 114.982623 169.716748 \nL 115.209904 169.538868 \nL 115.859278 169.328252 \nL 116.183965 169.17131 \nL 122.288081 167.370459 \nL 122.417955 167.278616 \nL 122.742642 167.151635 \nL 123.392016 166.949975 \nL 123.586829 166.873082 \nL 124.008922 166.735347 \nL 125.437545 166.317774 \nL 125.827169 166.202258 \nL 126.509012 165.880738 \nL 126.866168 165.770153 \nL 128.197384 165.259226 \nL 128.392197 165.143573 \nL 129.268851 164.805479 \nL 129.626007 164.699435 \nL 129.950694 164.574808 \nL 130.632537 164.355378 \nL 131.119567 164.20836 \nL 131.444254 164.115234 \nL 131.671535 164.023372 \nL 132.158566 163.901174 \nL 132.353378 163.840356 \nL 133.165096 163.699441 \nL 133.522251 163.556364 \nL 134.106688 163.419959 \nL 134.333969 163.293744 \nL 134.820999 163.167333 \nL 135.405436 162.920122 \nL 135.859998 162.793743 \nL 139.074399 161.677153 \nL 139.269211 161.54477 \nL 139.886117 161.399371 \nL 140.080929 161.273948 \nL 140.665366 161.094446 \nL 141.05499 160.995102 \nL 141.866708 160.803856 \nL 143.55508 160.268881 \nL 144.009642 160.099936 \nL 144.334329 160.009532 \nL 144.983703 159.874436 \nL 145.665546 159.727627 \nL 146.347388 159.495146 \nL 147.386387 159.145393 \nL 148.035761 158.988643 \nL 148.392917 158.873231 \nL 150.7956 158.265579 \nL 151.3151 158.075382 \nL 155.406156 156.910278 \nL 155.828249 156.774859 \nL 156.380217 156.619167 \nL 156.607498 156.527102 \nL 157.224403 156.316155 \nL 159.789431 155.710404 \nL 160.016712 155.612677 \nL 161.05571 155.36493 \nL 165.893547 154.082781 \nL 166.640327 153.811756 \nL 167.711794 153.565128 \nL 168.231293 153.338801 \nL 168.945605 153.154906 \nL 169.30276 153.03547 \nL 170.244353 152.783779 \nL 170.56904 152.680259 \nL 171.05607 152.552745 \nL 173.426285 151.845517 \nL 175.536751 151.367156 \nL 176.348468 151.117975 \nL 176.673156 151.010559 \nL 177.030311 150.930884 \nL 177.582279 150.765465 \nL 178.134247 150.559707 \nL 179.238183 150.343434 \nL 179.595339 150.263878 \nL 180.374587 150.073672 \nL 181.218774 149.805698 \nL 181.835679 149.604136 \nL 182.160366 149.497779 \nL 182.517522 149.391311 \nL 184.108488 149.008595 \nL 185.082549 148.856002 \nL 187.387827 148.2027 \nL 187.680045 148.085252 \nL 187.939795 148.018012 \nL 188.978793 147.762794 \nL 194.076379 146.384248 \nL 195.667346 145.868266 \nL 195.927095 145.794169 \nL 196.673876 145.604041 \nL 196.901156 145.516152 \nL 197.32325 145.409867 \nL 197.745343 145.233316 \nL 198.297311 145.073951 \nL 199.271372 144.797316 \nL 199.596059 144.707432 \nL 200.57012 144.49447 \nL 200.732463 144.433774 \nL 201.284431 144.316081 \nL 201.771462 144.212321 \nL 202.161086 144.112433 \nL 202.615648 143.996726 \nL 202.972804 143.896198 \nL 203.459834 143.760158 \nL 204.466364 143.430545 \nL 205.440425 143.264429 \nL 206.122268 143.026976 \nL 206.674236 142.897572 \nL 207.421016 142.65811 \nL 208.005452 142.45332 \nL 209.434075 142.101939 \nL 209.791231 141.965741 \nL 210.245793 141.854275 \nL 210.473074 141.7675 \nL 211.154916 141.60846 \nL 211.349729 141.556743 \nL 214.206974 140.805712 \nL 214.661536 140.702063 \nL 214.921286 140.619469 \nL 215.505722 140.494879 \nL 216.220034 140.310355 \nL 216.674596 140.201443 \nL 217.908406 139.920109 \nL 218.135687 139.811685 \nL 218.720124 139.686826 \nL 219.56431 139.443413 \nL 220.246153 139.282883 \nL 220.733183 139.112587 \nL 221.252683 138.965516 \nL 222.0644 138.803981 \nL 223.265742 138.462978 \nL 223.752773 138.328086 \nL 225.538551 137.803491 \nL 225.700895 137.732983 \nL 228.720484 136.865995 \nL 230.473794 136.487004 \nL 230.733543 136.41305 \nL 231.05823 136.301258 \nL 232.616728 135.932351 \nL 232.941415 135.823356 \nL 233.428446 135.701416 \nL 233.915476 135.572793 \nL 234.759662 135.334316 \nL 234.954475 135.25415 \nL 235.668786 135.092395 \nL 235.896067 135.020767 \nL 236.480504 134.856342 \nL 237.454565 134.506078 \nL 238.266282 134.341284 \nL 239.857248 133.975673 \nL 240.83131 133.794223 \nL 241.05859 133.713307 \nL 241.480684 133.60842 \nL 242.06512 133.456163 \nL 242.454745 133.325438 \nL 243.298931 133.099096 \nL 248.883547 131.575386 \nL 249.370578 131.457906 \nL 249.532921 131.410604 \nL 251.643387 130.76318 \nL 251.870668 130.707892 \nL 252.682386 130.483248 \nL 253.494103 130.329624 \nL 253.883727 130.222987 \nL 254.305821 130.090234 \nL 254.500633 130.016248 \nL 254.792851 129.907201 \nL 255.766912 129.665922 \nL 257.260472 129.293387 \nL 259.760562 128.372142 \nL 260.182656 128.269257 \nL 260.442405 128.202361 \nL 260.799561 128.079198 \nL 261.189185 127.938466 \nL 261.57881 127.835082 \nL 262.422996 127.577561 \nL 262.910026 127.455639 \nL 264.533462 126.996645 \nL 265.117898 126.861496 \nL 267.845269 126.060451 \nL 268.105019 125.931464 \nL 268.299831 125.859042 \nL 268.851799 125.72437 \nL 269.208955 125.643284 \nL 269.923266 125.50158 \nL 290.248673 119.134946 \nL 290.670766 118.993995 \nL 292.683826 118.346283 \nL 292.878638 118.270103 \nL 293.300731 118.090038 \nL 294.924166 117.535851 \nL 295.151447 117.421906 \nL 296.612539 116.96821 \nL 297.002163 116.826432 \nL 297.554131 116.589324 \nL 298.008693 116.473102 \nL 298.300911 116.37452 \nL 298.885348 116.218201 \nL 299.047691 116.096974 \nL 299.404847 115.983723 \nL 299.599659 115.891084 \nL 301.255563 115.452024 \nL 301.742593 115.184783 \nL 301.969874 115.079991 \nL 303.885528 114.584424 \nL 304.242683 114.423835 \nL 304.502433 114.363606 \nL 304.924526 114.248221 \nL 305.606369 114.010885 \nL 306.547961 113.745867 \nL 307.002523 113.499019 \nL 307.58696 113.315322 \nL 307.879178 113.243052 \nL 308.625958 112.992215 \nL 308.788302 112.912788 \nL 309.08052 112.800654 \nL 309.242863 112.715502 \nL 309.762363 112.566557 \nL 310.119518 112.405757 \nL 310.476674 112.250914 \nL 311.028642 112.044197 \nL 315.83401 109.969705 \nL 316.061291 109.83347 \nL 316.288572 109.721585 \nL 316.450915 109.606469 \nL 316.743133 109.511342 \nL 316.937946 109.406945 \nL 317.197695 109.258307 \nL 317.522382 109.143853 \nL 318.106819 108.853954 \nL 319.34063 108.217684 \nL 319.860129 108.042415 \nL 320.08741 107.899611 \nL 320.314691 107.712446 \nL 324.308341 105.939203 \nL 325.08759 105.6144 \nL 325.444745 105.421375 \nL 325.639558 105.270691 \nL 325.996713 105.141852 \nL 326.353869 105.041011 \nL 326.711025 104.892215 \nL 327.198055 104.747024 \nL 327.522742 104.446744 \nL 327.847429 104.271693 \nL 328.33446 104.121 \nL 328.626678 103.96123 \nL 328.853959 103.824596 \nL 329.016303 103.700868 \nL 329.957895 103.210249 \nL 330.509863 103.031215 \nL 330.672206 102.929786 \nL 330.964425 102.823818 \nL 331.646267 102.539212 \nL 331.938486 102.34245 \nL 332.782672 101.963666 \nL 333.237234 101.649947 \nL 333.496983 101.491284 \nL 333.691796 101.361975 \nL 333.951545 101.261201 \nL 334.276232 101.122914 \nL 334.665857 100.976486 \nL 334.893138 100.860362 \nL 335.185356 100.724434 \nL 335.932136 100.30384 \nL 336.354229 100.044286 \nL 336.484104 99.909535 \nL 336.84126 99.720994 \nL 338.07507 99.033035 \nL 338.367289 98.823502 \nL 339.114069 98.39283 \nL 339.406287 98.177965 \nL 340.023192 97.754802 \nL 341.094659 97.06919 \nL 341.257003 96.909346 \nL 341.549221 96.74406 \nL 341.84144 96.562911 \nL 342.945375 95.920665 \nL 343.205125 95.825446 \nL 343.367469 95.69406 \nL 343.497343 95.594365 \nL 345.185716 94.664039 \nL 345.412997 94.42352 \nL 345.607809 94.35969 \nL 345.737684 94.04747 \nL 350.607989 90.07258 \nL 350.737864 89.908439 \nL 350.965145 89.741486 \nL 351.127488 89.561273 \nL 351.354769 89.43911 \nL 351.549581 89.188666 \nL 351.646987 89.054997 \nL 351.809331 88.921422 \nL 352.004143 88.828401 \nL 352.166487 88.605662 \nL 352.263893 88.530338 \nL 352.621048 88.063051 \nL 353.465235 87.403356 \nL 353.952265 86.899706 \nL 355.413357 85.743993 \nL 355.5757 85.554851 \nL 355.705575 85.45198 \nL 355.83545 85.249984 \nL 356.160137 84.672787 \nL 356.712105 83.98398 \nL 356.906917 83.89629 \nL 357.134198 83.590008 \nL 357.523822 83.109346 \nL 357.686166 82.9104 \nL 357.945916 82.695995 \nL 358.59529 82.008356 \nL 358.660227 81.90615 \nL 358.790102 81.697669 \nL 358.919977 81.565451 \nL 359.34207 80.721116 \nL 359.666757 80.407633 \nL 360.868099 78.13031 \nL 360.965505 77.989929 \nL 361.030442 77.862943 \nL 361.420067 77.217405 \nL 361.777222 76.547196 \nL 362.004503 76.44305 \nL 362.231784 75.934385 \nL 362.394128 75.839387 \nL 362.816221 75.183936 \nL 362.848689 75.175663 \nL 363.043502 74.822239 \nL 363.140908 74.686898 \nL 363.173376 74.652567 \nL 363.33572 74.099771 \nL 363.563001 73.604742 \nL 363.660407 73.511335 \nL 363.855219 73.243018 \nL 364.017563 72.471146 \nL 364.0825 72.329081 \nL 364.244844 71.755005 \nL 364.634468 70.564349 \nL 364.764343 70.194397 \nL 364.959155 69.845098 \nL 365.218905 69.453606 \nL 365.381248 69.06082 \nL 365.446186 69.022381 \nL 365.933216 66.052768 \nL 366.128028 65.852633 \nL 366.290372 64.825587 \nL 366.615059 63.834677 \nL 366.744934 63.072336 \nL 366.874808 62.901441 \nL 367.102089 61.998308 \nL 367.231964 61.596956 \nL 368.238494 56.090366 \nL 368.400837 54.334877 \nL 368.530712 53.640399 \nL 368.790462 49.754638 \nL 368.920337 49.495626 \nL 369.115149 44.770654 \nL 369.212555 43.731105 \nL 369.34243 41.226615 \nL 369.439836 40.33711 \nL 369.504773 39.638658 \nL 369.667117 31.561906 \nL 369.732054 30.609565 \nL 369.82946 19.296 \nL 369.82946 19.296 \n\" clip-path=\"url(#p616a343cfa)\" style=\"fill: none; stroke: #1f77b4; stroke-width: 1.5; stroke-linecap: square\"/>\n   </g>\n   <g id=\"patch_3\">\n    <path d=\"M 28.942188 273.312 \nL 28.942188 7.2 \n\" style=\"fill: none; stroke: #000000; stroke-width: 0.8; stroke-linejoin: miter; stroke-linecap: square\"/>\n   </g>\n   <g id=\"patch_4\">\n    <path d=\"M 386.062188 273.312 \nL 386.062188 7.2 \n\" style=\"fill: none; stroke: #000000; stroke-width: 0.8; stroke-linejoin: miter; stroke-linecap: square\"/>\n   </g>\n   <g id=\"patch_5\">\n    <path d=\"M 28.942187 273.312 \nL 386.062188 273.312 \n\" style=\"fill: none; stroke: #000000; stroke-width: 0.8; stroke-linejoin: miter; stroke-linecap: square\"/>\n   </g>\n   <g id=\"patch_6\">\n    <path d=\"M 28.942187 7.2 \nL 386.062188 7.2 \n\" style=\"fill: none; stroke: #000000; stroke-width: 0.8; stroke-linejoin: miter; stroke-linecap: square\"/>\n   </g>\n  </g>\n </g>\n <defs>\n  <clipPath id=\"p616a343cfa\">\n   <rect x=\"28.942188\" y=\"7.2\" width=\"357.12\" height=\"266.112\"/>\n  </clipPath>\n </defs>\n</svg>\n",
            "image/png": "[encoded data removed]"
          },
          "metadata": {}
        }
      ],
      "metadata": {}
    },
    {
      "cell_type": "code",
      "execution_count": 48,
      "source": [
        "# YOUR CHANGES HERE\n",
        "\n",
        "# estimate the 90th percentile from the sample\n",
        "p19 = np.quantile(y, 0.9)"
      ],
      "outputs": [],
      "metadata": {}
    },
    {
      "cell_type": "code",
      "execution_count": 49,
      "source": [
        "p19"
      ],
      "outputs": [
        {
          "output_type": "execute_result",
          "data": {
            "text/plain": [
              "np.float64(7.5474755108494564)"
            ]
          },
          "metadata": {},
          "execution_count": 49
        }
      ],
      "metadata": {}
    },
    {
      "cell_type": "markdown",
      "source": [
        "### Problem 20\n",
        "\n",
        "The data in `q20x` was generated by sampling uniformly at random between zero and two.\n",
        "The data in `q20y` was calculated as $2x + 1$ plus random noise where $x$ is the corresponding value in `q20x`.\n",
        "\n",
        "Build a linear model from `q20x` and `q20y` and set `p20` to coefficient for $x$ in that model.\n",
        "(`p20` should be close to 2, but will be slightly different due to the noise.)"
      ],
      "metadata": {
        "id": "xxm1beScIboi"
      }
    },
    {
      "cell_type": "code",
      "execution_count": 51,
      "source": [
        "# DO NOT CHANGE\n",
        "\n",
        "q20x = [0.45542456, 0.5619655 , 1.98673764, 0.39494011, 1.03570131,\n",
        "       1.07975325, 1.51760232, 0.47180573, 0.38067669, 1.84629125]"
      ],
      "outputs": [],
      "metadata": {}
    },
    {
      "cell_type": "code",
      "execution_count": 52,
      "source": [
        "q20y = [0.9971621588157146, 2.5735616651097155, 4.973783648588769, 1.1067983025124097,\n",
        "         1.8254939098719511, 2.998556629834516, 5.176024170423844, 1.3041595788930969,\n",
        "           2.939895587626184, 4.865269147180646]"
      ],
      "outputs": [],
      "metadata": {}
    },
    {
      "cell_type": "code",
      "execution_count": 62,
      "source": [
        "# YOUR CHANGES HERE\n",
        "model = sklearn.linear_model.LinearRegression()\n",
        "model.fit(np.array(q20x).reshape(-1, 1), q20y)\n",
        "p20 = model.coef_"
      ],
      "outputs": [],
      "metadata": {}
    },
    {
      "cell_type": "code",
      "execution_count": 63,
      "source": [
        "p20"
      ],
      "outputs": [
        {
          "output_type": "execute_result",
          "data": {
            "text/plain": [
              "array([2.28272331])"
            ]
          },
          "metadata": {},
          "execution_count": 63
        }
      ],
      "metadata": {}
    },
    {
      "cell_type": "markdown",
      "source": [
        "### Generative AI Usage\n",
        "\n",
        "If you used any generative AI tools, please add links to your transcripts below, and any other information that you feel is necessary to comply with the [generative AI policy](https://www.bu.edu/cds-faculty/culture-community/gaia-policy/).\n",
        "If you did not use any generative AI tools, simply write NONE below."
      ],
      "metadata": {}
    },
    {
      "cell_type": "markdown",
      "source": [
        "None"
      ],
      "metadata": {}
    }
  ],
  "metadata": {
    "colab": {
      "toc_visible": false
    },
    "kernelspec": {
      "name": "python3",
      "display_name": "Python 3.13.5 64-bit ('test_env': conda)"
    },
    "language_info": {
      "codemirror_mode": {
        "name": "ipython",
        "version": 3
      },
      "file_extension": ".py",
      "mimetype": "text/x-python",
      "name": "python",
      "nbconvert_exporter": "python",
      "pygments_lexer": "ipython3",
      "version": "3.13.5"
    },
    "interpreter": {
      "hash": "cb23f857d3c7f0ee2d2845c75d7b24082b558c492a726c87849400f4f24ab23a"
    }
  },
  "nbformat": 4,
  "nbformat_minor": 2
}